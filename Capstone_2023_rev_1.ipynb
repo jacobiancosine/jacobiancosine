{
  "nbformat": 4,
  "nbformat_minor": 0,
  "metadata": {
    "colab": {
      "provenance": [],
      "include_colab_link": true
    },
    "kernelspec": {
      "name": "python3",
      "display_name": "Python 3.7.1 64-bit",
      "metadata": {
        "interpreter": {
          "hash": "0600588c3b5f4418cbe7b5ebc6825b479f3bc010269d8b60d75058cdd010adfe"
        }
      }
    },
    "language_info": {
      "name": "python",
      "version": "3.7.1-final"
    }
  },
  "cells": [
    {
      "cell_type": "markdown",
      "metadata": {
        "id": "view-in-github",
        "colab_type": "text"
      },
      "source": [
        "<a href=\"https://colab.research.google.com/github/jacobiancosine/jacobiancosine/blob/main/Capstone_2023_rev_1.ipynb\" target=\"_parent\"><img src=\"https://colab.research.google.com/assets/colab-badge.svg\" alt=\"Open In Colab\"/></a>"
      ]
    },
    {
      "cell_type": "markdown",
      "source": [
        "# Loading Data File. Initial EDA"
      ],
      "metadata": {
        "id": "9ohqIzM2rSaU"
      }
    },
    {
      "cell_type": "code",
      "source": [
        "#loading up everything that is needed.\n",
        "import pandas as pd\n",
        "import numpy as py\n",
        "import matplotlib.pyplot as plt\n",
        "import seaborn as sns\n",
        "from collections import Counter\n"
      ],
      "metadata": {
        "id": "VNrjk7-U7kaV"
      },
      "execution_count": 6,
      "outputs": []
    },
    {
      "cell_type": "code",
      "source": [
        "#access personal drive for data.\n",
        "\n",
        "from google.colab import drive\n",
        "drive.mount('/content/drive')"
      ],
      "metadata": {
        "colab": {
          "base_uri": "https://localhost:8080/"
        },
        "id": "ghx_YmE4xbJ6",
        "outputId": "877d82ba-e837-4ddf-df76-e99a37e44914"
      },
      "execution_count": 7,
      "outputs": [
        {
          "output_type": "stream",
          "name": "stdout",
          "text": [
            "Drive already mounted at /content/drive; to attempt to forcibly remount, call drive.mount(\"/content/drive\", force_remount=True).\n"
          ]
        }
      ]
    },
    {
      "cell_type": "code",
      "source": [
        "#turn csv into dataframe\n",
        "games = pd.read_csv('/content/drive/MyDrive/Colab Notebooks/games.csv')\n",
        "\n",
        "#local file\n",
        "#games = pd.read_csv('games.csv')"
      ],
      "metadata": {
        "id": "WzERHT6WxjuV"
      },
      "execution_count": 8,
      "outputs": []
    },
    {
      "cell_type": "code",
      "source": [
        "games.head()"
      ],
      "metadata": {
        "colab": {
          "base_uri": "https://localhost:8080/",
          "height": 583
        },
        "id": "2maIV75tx49V",
        "outputId": "b96b35f7-c1f2-4df0-b8d5-161d69a6e22a"
      },
      "execution_count": 9,
      "outputs": [
        {
          "output_type": "execute_result",
          "data": {
            "text/plain": [
              "     AppID                   Name  Release date Estimated owners  Peak CCU  \\\n",
              "0    20200       Galactic Bowling  Oct 21, 2008        0 - 20000         0   \n",
              "1   655370           Train Bandit  Oct 12, 2017        0 - 20000         0   \n",
              "2  1732930           Jolt Project  Nov 17, 2021        0 - 20000         0   \n",
              "3  1355720               Henosis™  Jul 23, 2020        0 - 20000         0   \n",
              "4  1139950  Two Weeks in Painland   Feb 3, 2020        0 - 20000         0   \n",
              "\n",
              "   Required age  Price  DLC count  \\\n",
              "0             0  19.99          0   \n",
              "1             0   0.99          0   \n",
              "2             0   4.99          0   \n",
              "3             0   5.99          0   \n",
              "4             0   0.00          0   \n",
              "\n",
              "                                      About the game  \\\n",
              "0  Galactic Bowling is an exaggerated and stylize...   \n",
              "1  THE LAW!! Looks to be a showdown atop a train....   \n",
              "2  Jolt Project: The army now has a new robotics ...   \n",
              "3  HENOSIS™ is a mysterious 2D Platform Puzzler w...   \n",
              "4  ABOUT THE GAME Play as a hacker who has arrang...   \n",
              "\n",
              "                                 Supported languages  ...  \\\n",
              "0                                        ['English']  ...   \n",
              "1  ['English', 'French', 'Italian', 'German', 'Sp...  ...   \n",
              "2                 ['English', 'Portuguese - Brazil']  ...   \n",
              "3  ['English', 'French', 'Italian', 'German', 'Sp...  ...   \n",
              "4                     ['English', 'Spanish - Spain']  ...   \n",
              "\n",
              "  Average playtime two weeks Median playtime forever  \\\n",
              "0                          0                       0   \n",
              "1                          0                       0   \n",
              "2                          0                       0   \n",
              "3                          0                       0   \n",
              "4                          0                       0   \n",
              "\n",
              "  Median playtime two weeks             Developers             Publishers  \\\n",
              "0                         0  Perpetual FX Creative  Perpetual FX Creative   \n",
              "1                         0           Rusty Moyher           Wild Rooster   \n",
              "2                         0          Campião Games          Campião Games   \n",
              "3                         0      Odd Critter Games      Odd Critter Games   \n",
              "4                         0          Unusual Games          Unusual Games   \n",
              "\n",
              "                                          Categories  \\\n",
              "0  Single-player,Multi-player,Steam Achievements,...   \n",
              "1  Single-player,Steam Achievements,Full controll...   \n",
              "2                                      Single-player   \n",
              "3              Single-player,Full controller support   \n",
              "4                   Single-player,Steam Achievements   \n",
              "\n",
              "                            Genres  \\\n",
              "0              Casual,Indie,Sports   \n",
              "1                     Action,Indie   \n",
              "2  Action,Adventure,Indie,Strategy   \n",
              "3           Adventure,Casual,Indie   \n",
              "4                  Adventure,Indie   \n",
              "\n",
              "                                                Tags  \\\n",
              "0                        Indie,Casual,Sports,Bowling   \n",
              "1  Indie,Action,Pixel Graphics,2D,Retro,Arcade,Sc...   \n",
              "2                                                NaN   \n",
              "3  2D Platformer,Atmospheric,Surreal,Mystery,Puzz...   \n",
              "4  Indie,Adventure,Nudity,Violent,Sexual Content,...   \n",
              "\n",
              "                                         Screenshots  \\\n",
              "0  https://cdn.akamai.steamstatic.com/steam/apps/...   \n",
              "1  https://cdn.akamai.steamstatic.com/steam/apps/...   \n",
              "2  https://cdn.akamai.steamstatic.com/steam/apps/...   \n",
              "3  https://cdn.akamai.steamstatic.com/steam/apps/...   \n",
              "4  https://cdn.akamai.steamstatic.com/steam/apps/...   \n",
              "\n",
              "                                              Movies  \n",
              "0  http://cdn.akamai.steamstatic.com/steam/apps/2...  \n",
              "1  http://cdn.akamai.steamstatic.com/steam/apps/2...  \n",
              "2  http://cdn.akamai.steamstatic.com/steam/apps/2...  \n",
              "3  http://cdn.akamai.steamstatic.com/steam/apps/2...  \n",
              "4  http://cdn.akamai.steamstatic.com/steam/apps/2...  \n",
              "\n",
              "[5 rows x 39 columns]"
            ],
            "text/html": [
              "\n",
              "  <div id=\"df-a90f2ab9-7acb-4865-86e1-74337dfd44f8\" class=\"colab-df-container\">\n",
              "    <div>\n",
              "<style scoped>\n",
              "    .dataframe tbody tr th:only-of-type {\n",
              "        vertical-align: middle;\n",
              "    }\n",
              "\n",
              "    .dataframe tbody tr th {\n",
              "        vertical-align: top;\n",
              "    }\n",
              "\n",
              "    .dataframe thead th {\n",
              "        text-align: right;\n",
              "    }\n",
              "</style>\n",
              "<table border=\"1\" class=\"dataframe\">\n",
              "  <thead>\n",
              "    <tr style=\"text-align: right;\">\n",
              "      <th></th>\n",
              "      <th>AppID</th>\n",
              "      <th>Name</th>\n",
              "      <th>Release date</th>\n",
              "      <th>Estimated owners</th>\n",
              "      <th>Peak CCU</th>\n",
              "      <th>Required age</th>\n",
              "      <th>Price</th>\n",
              "      <th>DLC count</th>\n",
              "      <th>About the game</th>\n",
              "      <th>Supported languages</th>\n",
              "      <th>...</th>\n",
              "      <th>Average playtime two weeks</th>\n",
              "      <th>Median playtime forever</th>\n",
              "      <th>Median playtime two weeks</th>\n",
              "      <th>Developers</th>\n",
              "      <th>Publishers</th>\n",
              "      <th>Categories</th>\n",
              "      <th>Genres</th>\n",
              "      <th>Tags</th>\n",
              "      <th>Screenshots</th>\n",
              "      <th>Movies</th>\n",
              "    </tr>\n",
              "  </thead>\n",
              "  <tbody>\n",
              "    <tr>\n",
              "      <th>0</th>\n",
              "      <td>20200</td>\n",
              "      <td>Galactic Bowling</td>\n",
              "      <td>Oct 21, 2008</td>\n",
              "      <td>0 - 20000</td>\n",
              "      <td>0</td>\n",
              "      <td>0</td>\n",
              "      <td>19.99</td>\n",
              "      <td>0</td>\n",
              "      <td>Galactic Bowling is an exaggerated and stylize...</td>\n",
              "      <td>['English']</td>\n",
              "      <td>...</td>\n",
              "      <td>0</td>\n",
              "      <td>0</td>\n",
              "      <td>0</td>\n",
              "      <td>Perpetual FX Creative</td>\n",
              "      <td>Perpetual FX Creative</td>\n",
              "      <td>Single-player,Multi-player,Steam Achievements,...</td>\n",
              "      <td>Casual,Indie,Sports</td>\n",
              "      <td>Indie,Casual,Sports,Bowling</td>\n",
              "      <td>https://cdn.akamai.steamstatic.com/steam/apps/...</td>\n",
              "      <td>http://cdn.akamai.steamstatic.com/steam/apps/2...</td>\n",
              "    </tr>\n",
              "    <tr>\n",
              "      <th>1</th>\n",
              "      <td>655370</td>\n",
              "      <td>Train Bandit</td>\n",
              "      <td>Oct 12, 2017</td>\n",
              "      <td>0 - 20000</td>\n",
              "      <td>0</td>\n",
              "      <td>0</td>\n",
              "      <td>0.99</td>\n",
              "      <td>0</td>\n",
              "      <td>THE LAW!! Looks to be a showdown atop a train....</td>\n",
              "      <td>['English', 'French', 'Italian', 'German', 'Sp...</td>\n",
              "      <td>...</td>\n",
              "      <td>0</td>\n",
              "      <td>0</td>\n",
              "      <td>0</td>\n",
              "      <td>Rusty Moyher</td>\n",
              "      <td>Wild Rooster</td>\n",
              "      <td>Single-player,Steam Achievements,Full controll...</td>\n",
              "      <td>Action,Indie</td>\n",
              "      <td>Indie,Action,Pixel Graphics,2D,Retro,Arcade,Sc...</td>\n",
              "      <td>https://cdn.akamai.steamstatic.com/steam/apps/...</td>\n",
              "      <td>http://cdn.akamai.steamstatic.com/steam/apps/2...</td>\n",
              "    </tr>\n",
              "    <tr>\n",
              "      <th>2</th>\n",
              "      <td>1732930</td>\n",
              "      <td>Jolt Project</td>\n",
              "      <td>Nov 17, 2021</td>\n",
              "      <td>0 - 20000</td>\n",
              "      <td>0</td>\n",
              "      <td>0</td>\n",
              "      <td>4.99</td>\n",
              "      <td>0</td>\n",
              "      <td>Jolt Project: The army now has a new robotics ...</td>\n",
              "      <td>['English', 'Portuguese - Brazil']</td>\n",
              "      <td>...</td>\n",
              "      <td>0</td>\n",
              "      <td>0</td>\n",
              "      <td>0</td>\n",
              "      <td>Campião Games</td>\n",
              "      <td>Campião Games</td>\n",
              "      <td>Single-player</td>\n",
              "      <td>Action,Adventure,Indie,Strategy</td>\n",
              "      <td>NaN</td>\n",
              "      <td>https://cdn.akamai.steamstatic.com/steam/apps/...</td>\n",
              "      <td>http://cdn.akamai.steamstatic.com/steam/apps/2...</td>\n",
              "    </tr>\n",
              "    <tr>\n",
              "      <th>3</th>\n",
              "      <td>1355720</td>\n",
              "      <td>Henosis™</td>\n",
              "      <td>Jul 23, 2020</td>\n",
              "      <td>0 - 20000</td>\n",
              "      <td>0</td>\n",
              "      <td>0</td>\n",
              "      <td>5.99</td>\n",
              "      <td>0</td>\n",
              "      <td>HENOSIS™ is a mysterious 2D Platform Puzzler w...</td>\n",
              "      <td>['English', 'French', 'Italian', 'German', 'Sp...</td>\n",
              "      <td>...</td>\n",
              "      <td>0</td>\n",
              "      <td>0</td>\n",
              "      <td>0</td>\n",
              "      <td>Odd Critter Games</td>\n",
              "      <td>Odd Critter Games</td>\n",
              "      <td>Single-player,Full controller support</td>\n",
              "      <td>Adventure,Casual,Indie</td>\n",
              "      <td>2D Platformer,Atmospheric,Surreal,Mystery,Puzz...</td>\n",
              "      <td>https://cdn.akamai.steamstatic.com/steam/apps/...</td>\n",
              "      <td>http://cdn.akamai.steamstatic.com/steam/apps/2...</td>\n",
              "    </tr>\n",
              "    <tr>\n",
              "      <th>4</th>\n",
              "      <td>1139950</td>\n",
              "      <td>Two Weeks in Painland</td>\n",
              "      <td>Feb 3, 2020</td>\n",
              "      <td>0 - 20000</td>\n",
              "      <td>0</td>\n",
              "      <td>0</td>\n",
              "      <td>0.00</td>\n",
              "      <td>0</td>\n",
              "      <td>ABOUT THE GAME Play as a hacker who has arrang...</td>\n",
              "      <td>['English', 'Spanish - Spain']</td>\n",
              "      <td>...</td>\n",
              "      <td>0</td>\n",
              "      <td>0</td>\n",
              "      <td>0</td>\n",
              "      <td>Unusual Games</td>\n",
              "      <td>Unusual Games</td>\n",
              "      <td>Single-player,Steam Achievements</td>\n",
              "      <td>Adventure,Indie</td>\n",
              "      <td>Indie,Adventure,Nudity,Violent,Sexual Content,...</td>\n",
              "      <td>https://cdn.akamai.steamstatic.com/steam/apps/...</td>\n",
              "      <td>http://cdn.akamai.steamstatic.com/steam/apps/2...</td>\n",
              "    </tr>\n",
              "  </tbody>\n",
              "</table>\n",
              "<p>5 rows × 39 columns</p>\n",
              "</div>\n",
              "    <div class=\"colab-df-buttons\">\n",
              "\n",
              "  <div class=\"colab-df-container\">\n",
              "    <button class=\"colab-df-convert\" onclick=\"convertToInteractive('df-a90f2ab9-7acb-4865-86e1-74337dfd44f8')\"\n",
              "            title=\"Convert this dataframe to an interactive table.\"\n",
              "            style=\"display:none;\">\n",
              "\n",
              "  <svg xmlns=\"http://www.w3.org/2000/svg\" height=\"24px\" viewBox=\"0 -960 960 960\">\n",
              "    <path d=\"M120-120v-720h720v720H120Zm60-500h600v-160H180v160Zm220 220h160v-160H400v160Zm0 220h160v-160H400v160ZM180-400h160v-160H180v160Zm440 0h160v-160H620v160ZM180-180h160v-160H180v160Zm440 0h160v-160H620v160Z\"/>\n",
              "  </svg>\n",
              "    </button>\n",
              "\n",
              "  <style>\n",
              "    .colab-df-container {\n",
              "      display:flex;\n",
              "      gap: 12px;\n",
              "    }\n",
              "\n",
              "    .colab-df-convert {\n",
              "      background-color: #E8F0FE;\n",
              "      border: none;\n",
              "      border-radius: 50%;\n",
              "      cursor: pointer;\n",
              "      display: none;\n",
              "      fill: #1967D2;\n",
              "      height: 32px;\n",
              "      padding: 0 0 0 0;\n",
              "      width: 32px;\n",
              "    }\n",
              "\n",
              "    .colab-df-convert:hover {\n",
              "      background-color: #E2EBFA;\n",
              "      box-shadow: 0px 1px 2px rgba(60, 64, 67, 0.3), 0px 1px 3px 1px rgba(60, 64, 67, 0.15);\n",
              "      fill: #174EA6;\n",
              "    }\n",
              "\n",
              "    .colab-df-buttons div {\n",
              "      margin-bottom: 4px;\n",
              "    }\n",
              "\n",
              "    [theme=dark] .colab-df-convert {\n",
              "      background-color: #3B4455;\n",
              "      fill: #D2E3FC;\n",
              "    }\n",
              "\n",
              "    [theme=dark] .colab-df-convert:hover {\n",
              "      background-color: #434B5C;\n",
              "      box-shadow: 0px 1px 3px 1px rgba(0, 0, 0, 0.15);\n",
              "      filter: drop-shadow(0px 1px 2px rgba(0, 0, 0, 0.3));\n",
              "      fill: #FFFFFF;\n",
              "    }\n",
              "  </style>\n",
              "\n",
              "    <script>\n",
              "      const buttonEl =\n",
              "        document.querySelector('#df-a90f2ab9-7acb-4865-86e1-74337dfd44f8 button.colab-df-convert');\n",
              "      buttonEl.style.display =\n",
              "        google.colab.kernel.accessAllowed ? 'block' : 'none';\n",
              "\n",
              "      async function convertToInteractive(key) {\n",
              "        const element = document.querySelector('#df-a90f2ab9-7acb-4865-86e1-74337dfd44f8');\n",
              "        const dataTable =\n",
              "          await google.colab.kernel.invokeFunction('convertToInteractive',\n",
              "                                                    [key], {});\n",
              "        if (!dataTable) return;\n",
              "\n",
              "        const docLinkHtml = 'Like what you see? Visit the ' +\n",
              "          '<a target=\"_blank\" href=https://colab.research.google.com/notebooks/data_table.ipynb>data table notebook</a>'\n",
              "          + ' to learn more about interactive tables.';\n",
              "        element.innerHTML = '';\n",
              "        dataTable['output_type'] = 'display_data';\n",
              "        await google.colab.output.renderOutput(dataTable, element);\n",
              "        const docLink = document.createElement('div');\n",
              "        docLink.innerHTML = docLinkHtml;\n",
              "        element.appendChild(docLink);\n",
              "      }\n",
              "    </script>\n",
              "  </div>\n",
              "\n",
              "\n",
              "<div id=\"df-ddec1260-7ad1-4b27-a32f-b43221cf7746\">\n",
              "  <button class=\"colab-df-quickchart\" onclick=\"quickchart('df-ddec1260-7ad1-4b27-a32f-b43221cf7746')\"\n",
              "            title=\"Suggest charts\"\n",
              "            style=\"display:none;\">\n",
              "\n",
              "<svg xmlns=\"http://www.w3.org/2000/svg\" height=\"24px\"viewBox=\"0 0 24 24\"\n",
              "     width=\"24px\">\n",
              "    <g>\n",
              "        <path d=\"M19 3H5c-1.1 0-2 .9-2 2v14c0 1.1.9 2 2 2h14c1.1 0 2-.9 2-2V5c0-1.1-.9-2-2-2zM9 17H7v-7h2v7zm4 0h-2V7h2v10zm4 0h-2v-4h2v4z\"/>\n",
              "    </g>\n",
              "</svg>\n",
              "  </button>\n",
              "\n",
              "<style>\n",
              "  .colab-df-quickchart {\n",
              "      --bg-color: #E8F0FE;\n",
              "      --fill-color: #1967D2;\n",
              "      --hover-bg-color: #E2EBFA;\n",
              "      --hover-fill-color: #174EA6;\n",
              "      --disabled-fill-color: #AAA;\n",
              "      --disabled-bg-color: #DDD;\n",
              "  }\n",
              "\n",
              "  [theme=dark] .colab-df-quickchart {\n",
              "      --bg-color: #3B4455;\n",
              "      --fill-color: #D2E3FC;\n",
              "      --hover-bg-color: #434B5C;\n",
              "      --hover-fill-color: #FFFFFF;\n",
              "      --disabled-bg-color: #3B4455;\n",
              "      --disabled-fill-color: #666;\n",
              "  }\n",
              "\n",
              "  .colab-df-quickchart {\n",
              "    background-color: var(--bg-color);\n",
              "    border: none;\n",
              "    border-radius: 50%;\n",
              "    cursor: pointer;\n",
              "    display: none;\n",
              "    fill: var(--fill-color);\n",
              "    height: 32px;\n",
              "    padding: 0;\n",
              "    width: 32px;\n",
              "  }\n",
              "\n",
              "  .colab-df-quickchart:hover {\n",
              "    background-color: var(--hover-bg-color);\n",
              "    box-shadow: 0 1px 2px rgba(60, 64, 67, 0.3), 0 1px 3px 1px rgba(60, 64, 67, 0.15);\n",
              "    fill: var(--button-hover-fill-color);\n",
              "  }\n",
              "\n",
              "  .colab-df-quickchart-complete:disabled,\n",
              "  .colab-df-quickchart-complete:disabled:hover {\n",
              "    background-color: var(--disabled-bg-color);\n",
              "    fill: var(--disabled-fill-color);\n",
              "    box-shadow: none;\n",
              "  }\n",
              "\n",
              "  .colab-df-spinner {\n",
              "    border: 2px solid var(--fill-color);\n",
              "    border-color: transparent;\n",
              "    border-bottom-color: var(--fill-color);\n",
              "    animation:\n",
              "      spin 1s steps(1) infinite;\n",
              "  }\n",
              "\n",
              "  @keyframes spin {\n",
              "    0% {\n",
              "      border-color: transparent;\n",
              "      border-bottom-color: var(--fill-color);\n",
              "      border-left-color: var(--fill-color);\n",
              "    }\n",
              "    20% {\n",
              "      border-color: transparent;\n",
              "      border-left-color: var(--fill-color);\n",
              "      border-top-color: var(--fill-color);\n",
              "    }\n",
              "    30% {\n",
              "      border-color: transparent;\n",
              "      border-left-color: var(--fill-color);\n",
              "      border-top-color: var(--fill-color);\n",
              "      border-right-color: var(--fill-color);\n",
              "    }\n",
              "    40% {\n",
              "      border-color: transparent;\n",
              "      border-right-color: var(--fill-color);\n",
              "      border-top-color: var(--fill-color);\n",
              "    }\n",
              "    60% {\n",
              "      border-color: transparent;\n",
              "      border-right-color: var(--fill-color);\n",
              "    }\n",
              "    80% {\n",
              "      border-color: transparent;\n",
              "      border-right-color: var(--fill-color);\n",
              "      border-bottom-color: var(--fill-color);\n",
              "    }\n",
              "    90% {\n",
              "      border-color: transparent;\n",
              "      border-bottom-color: var(--fill-color);\n",
              "    }\n",
              "  }\n",
              "</style>\n",
              "\n",
              "  <script>\n",
              "    async function quickchart(key) {\n",
              "      const quickchartButtonEl =\n",
              "        document.querySelector('#' + key + ' button');\n",
              "      quickchartButtonEl.disabled = true;  // To prevent multiple clicks.\n",
              "      quickchartButtonEl.classList.add('colab-df-spinner');\n",
              "      try {\n",
              "        const charts = await google.colab.kernel.invokeFunction(\n",
              "            'suggestCharts', [key], {});\n",
              "      } catch (error) {\n",
              "        console.error('Error during call to suggestCharts:', error);\n",
              "      }\n",
              "      quickchartButtonEl.classList.remove('colab-df-spinner');\n",
              "      quickchartButtonEl.classList.add('colab-df-quickchart-complete');\n",
              "    }\n",
              "    (() => {\n",
              "      let quickchartButtonEl =\n",
              "        document.querySelector('#df-ddec1260-7ad1-4b27-a32f-b43221cf7746 button');\n",
              "      quickchartButtonEl.style.display =\n",
              "        google.colab.kernel.accessAllowed ? 'block' : 'none';\n",
              "    })();\n",
              "  </script>\n",
              "</div>\n",
              "    </div>\n",
              "  </div>\n"
            ]
          },
          "metadata": {},
          "execution_count": 9
        }
      ]
    },
    {
      "cell_type": "markdown",
      "source": [
        "# EDA"
      ],
      "metadata": {
        "id": "UJkHu9xC9P04"
      }
    },
    {
      "cell_type": "code",
      "source": [
        "games.describe()"
      ],
      "metadata": {
        "colab": {
          "base_uri": "https://localhost:8080/",
          "height": 300
        },
        "id": "QRGXOxjy9Te0",
        "outputId": "5c8b05da-3a42-43c6-a1b3-2514a252373c"
      },
      "execution_count": 10,
      "outputs": [
        {
          "output_type": "execute_result",
          "data": {
            "text/plain": [
              "              AppID       Peak CCU  Required age         Price     DLC count  \\\n",
              "count  7.858100e+04   78581.000000  78581.000000  78581.000000  78581.000000   \n",
              "mean   1.266629e+06     138.883051      0.329253      7.104333      0.573625   \n",
              "std    6.402733e+05    5577.198496      2.311860     11.049926     14.268964   \n",
              "min    1.000000e+01       0.000000      0.000000      0.000000      0.000000   \n",
              "25%    7.315100e+05       0.000000      0.000000      0.990000      0.000000   \n",
              "50%    1.239050e+06       0.000000      0.000000      4.490000      0.000000   \n",
              "75%    1.791680e+06       1.000000      0.000000      9.990000      0.000000   \n",
              "max    2.546410e+06  872138.000000     21.000000    999.000000   2366.000000   \n",
              "\n",
              "       Metacritic score    User score      Positive       Negative  \\\n",
              "count      78581.000000  78581.000000  7.858100e+04   78581.000000   \n",
              "mean           3.591861      0.043127  1.028846e+03     170.194653   \n",
              "std           15.938915      1.863819  2.534235e+04    4755.704133   \n",
              "min            0.000000      0.000000  0.000000e+00       0.000000   \n",
              "25%            0.000000      0.000000  0.000000e+00       0.000000   \n",
              "50%            0.000000      0.000000  8.000000e+00       2.000000   \n",
              "75%            0.000000      0.000000  5.200000e+01      16.000000   \n",
              "max           97.000000    100.000000  5.764420e+06  895978.000000   \n",
              "\n",
              "       Score rank  Achievements  Recommendations  Average playtime forever  \\\n",
              "count   44.000000  78581.000000     7.858100e+04              78581.000000   \n",
              "mean    98.909091     20.723165     8.295522e+02                112.196409   \n",
              "std      0.857747    178.311718     1.861140e+04               1187.518506   \n",
              "min     97.000000      0.000000     0.000000e+00                  0.000000   \n",
              "25%     98.000000      0.000000     0.000000e+00                  0.000000   \n",
              "50%     99.000000      0.000000     0.000000e+00                  0.000000   \n",
              "75%    100.000000     18.000000     0.000000e+00                  0.000000   \n",
              "max    100.000000   9821.000000     3.441592e+06             145727.000000   \n",
              "\n",
              "       Average playtime two weeks  Median playtime forever  \\\n",
              "count                78581.000000             78581.000000   \n",
              "mean                    11.210954                99.838765   \n",
              "std                    195.629768              1571.243342   \n",
              "min                      0.000000                 0.000000   \n",
              "25%                      0.000000                 0.000000   \n",
              "50%                      0.000000                 0.000000   \n",
              "75%                      0.000000                 0.000000   \n",
              "max                  19159.000000            208473.000000   \n",
              "\n",
              "       Median playtime two weeks  \n",
              "count               78581.000000  \n",
              "mean                   12.011020  \n",
              "std                   212.201878  \n",
              "min                     0.000000  \n",
              "25%                     0.000000  \n",
              "50%                     0.000000  \n",
              "75%                     0.000000  \n",
              "max                 19159.000000  "
            ],
            "text/html": [
              "\n",
              "  <div id=\"df-fcb7fa1e-0683-4968-8f16-1afc5c727cae\" class=\"colab-df-container\">\n",
              "    <div>\n",
              "<style scoped>\n",
              "    .dataframe tbody tr th:only-of-type {\n",
              "        vertical-align: middle;\n",
              "    }\n",
              "\n",
              "    .dataframe tbody tr th {\n",
              "        vertical-align: top;\n",
              "    }\n",
              "\n",
              "    .dataframe thead th {\n",
              "        text-align: right;\n",
              "    }\n",
              "</style>\n",
              "<table border=\"1\" class=\"dataframe\">\n",
              "  <thead>\n",
              "    <tr style=\"text-align: right;\">\n",
              "      <th></th>\n",
              "      <th>AppID</th>\n",
              "      <th>Peak CCU</th>\n",
              "      <th>Required age</th>\n",
              "      <th>Price</th>\n",
              "      <th>DLC count</th>\n",
              "      <th>Metacritic score</th>\n",
              "      <th>User score</th>\n",
              "      <th>Positive</th>\n",
              "      <th>Negative</th>\n",
              "      <th>Score rank</th>\n",
              "      <th>Achievements</th>\n",
              "      <th>Recommendations</th>\n",
              "      <th>Average playtime forever</th>\n",
              "      <th>Average playtime two weeks</th>\n",
              "      <th>Median playtime forever</th>\n",
              "      <th>Median playtime two weeks</th>\n",
              "    </tr>\n",
              "  </thead>\n",
              "  <tbody>\n",
              "    <tr>\n",
              "      <th>count</th>\n",
              "      <td>7.858100e+04</td>\n",
              "      <td>78581.000000</td>\n",
              "      <td>78581.000000</td>\n",
              "      <td>78581.000000</td>\n",
              "      <td>78581.000000</td>\n",
              "      <td>78581.000000</td>\n",
              "      <td>78581.000000</td>\n",
              "      <td>7.858100e+04</td>\n",
              "      <td>78581.000000</td>\n",
              "      <td>44.000000</td>\n",
              "      <td>78581.000000</td>\n",
              "      <td>7.858100e+04</td>\n",
              "      <td>78581.000000</td>\n",
              "      <td>78581.000000</td>\n",
              "      <td>78581.000000</td>\n",
              "      <td>78581.000000</td>\n",
              "    </tr>\n",
              "    <tr>\n",
              "      <th>mean</th>\n",
              "      <td>1.266629e+06</td>\n",
              "      <td>138.883051</td>\n",
              "      <td>0.329253</td>\n",
              "      <td>7.104333</td>\n",
              "      <td>0.573625</td>\n",
              "      <td>3.591861</td>\n",
              "      <td>0.043127</td>\n",
              "      <td>1.028846e+03</td>\n",
              "      <td>170.194653</td>\n",
              "      <td>98.909091</td>\n",
              "      <td>20.723165</td>\n",
              "      <td>8.295522e+02</td>\n",
              "      <td>112.196409</td>\n",
              "      <td>11.210954</td>\n",
              "      <td>99.838765</td>\n",
              "      <td>12.011020</td>\n",
              "    </tr>\n",
              "    <tr>\n",
              "      <th>std</th>\n",
              "      <td>6.402733e+05</td>\n",
              "      <td>5577.198496</td>\n",
              "      <td>2.311860</td>\n",
              "      <td>11.049926</td>\n",
              "      <td>14.268964</td>\n",
              "      <td>15.938915</td>\n",
              "      <td>1.863819</td>\n",
              "      <td>2.534235e+04</td>\n",
              "      <td>4755.704133</td>\n",
              "      <td>0.857747</td>\n",
              "      <td>178.311718</td>\n",
              "      <td>1.861140e+04</td>\n",
              "      <td>1187.518506</td>\n",
              "      <td>195.629768</td>\n",
              "      <td>1571.243342</td>\n",
              "      <td>212.201878</td>\n",
              "    </tr>\n",
              "    <tr>\n",
              "      <th>min</th>\n",
              "      <td>1.000000e+01</td>\n",
              "      <td>0.000000</td>\n",
              "      <td>0.000000</td>\n",
              "      <td>0.000000</td>\n",
              "      <td>0.000000</td>\n",
              "      <td>0.000000</td>\n",
              "      <td>0.000000</td>\n",
              "      <td>0.000000e+00</td>\n",
              "      <td>0.000000</td>\n",
              "      <td>97.000000</td>\n",
              "      <td>0.000000</td>\n",
              "      <td>0.000000e+00</td>\n",
              "      <td>0.000000</td>\n",
              "      <td>0.000000</td>\n",
              "      <td>0.000000</td>\n",
              "      <td>0.000000</td>\n",
              "    </tr>\n",
              "    <tr>\n",
              "      <th>25%</th>\n",
              "      <td>7.315100e+05</td>\n",
              "      <td>0.000000</td>\n",
              "      <td>0.000000</td>\n",
              "      <td>0.990000</td>\n",
              "      <td>0.000000</td>\n",
              "      <td>0.000000</td>\n",
              "      <td>0.000000</td>\n",
              "      <td>0.000000e+00</td>\n",
              "      <td>0.000000</td>\n",
              "      <td>98.000000</td>\n",
              "      <td>0.000000</td>\n",
              "      <td>0.000000e+00</td>\n",
              "      <td>0.000000</td>\n",
              "      <td>0.000000</td>\n",
              "      <td>0.000000</td>\n",
              "      <td>0.000000</td>\n",
              "    </tr>\n",
              "    <tr>\n",
              "      <th>50%</th>\n",
              "      <td>1.239050e+06</td>\n",
              "      <td>0.000000</td>\n",
              "      <td>0.000000</td>\n",
              "      <td>4.490000</td>\n",
              "      <td>0.000000</td>\n",
              "      <td>0.000000</td>\n",
              "      <td>0.000000</td>\n",
              "      <td>8.000000e+00</td>\n",
              "      <td>2.000000</td>\n",
              "      <td>99.000000</td>\n",
              "      <td>0.000000</td>\n",
              "      <td>0.000000e+00</td>\n",
              "      <td>0.000000</td>\n",
              "      <td>0.000000</td>\n",
              "      <td>0.000000</td>\n",
              "      <td>0.000000</td>\n",
              "    </tr>\n",
              "    <tr>\n",
              "      <th>75%</th>\n",
              "      <td>1.791680e+06</td>\n",
              "      <td>1.000000</td>\n",
              "      <td>0.000000</td>\n",
              "      <td>9.990000</td>\n",
              "      <td>0.000000</td>\n",
              "      <td>0.000000</td>\n",
              "      <td>0.000000</td>\n",
              "      <td>5.200000e+01</td>\n",
              "      <td>16.000000</td>\n",
              "      <td>100.000000</td>\n",
              "      <td>18.000000</td>\n",
              "      <td>0.000000e+00</td>\n",
              "      <td>0.000000</td>\n",
              "      <td>0.000000</td>\n",
              "      <td>0.000000</td>\n",
              "      <td>0.000000</td>\n",
              "    </tr>\n",
              "    <tr>\n",
              "      <th>max</th>\n",
              "      <td>2.546410e+06</td>\n",
              "      <td>872138.000000</td>\n",
              "      <td>21.000000</td>\n",
              "      <td>999.000000</td>\n",
              "      <td>2366.000000</td>\n",
              "      <td>97.000000</td>\n",
              "      <td>100.000000</td>\n",
              "      <td>5.764420e+06</td>\n",
              "      <td>895978.000000</td>\n",
              "      <td>100.000000</td>\n",
              "      <td>9821.000000</td>\n",
              "      <td>3.441592e+06</td>\n",
              "      <td>145727.000000</td>\n",
              "      <td>19159.000000</td>\n",
              "      <td>208473.000000</td>\n",
              "      <td>19159.000000</td>\n",
              "    </tr>\n",
              "  </tbody>\n",
              "</table>\n",
              "</div>\n",
              "    <div class=\"colab-df-buttons\">\n",
              "\n",
              "  <div class=\"colab-df-container\">\n",
              "    <button class=\"colab-df-convert\" onclick=\"convertToInteractive('df-fcb7fa1e-0683-4968-8f16-1afc5c727cae')\"\n",
              "            title=\"Convert this dataframe to an interactive table.\"\n",
              "            style=\"display:none;\">\n",
              "\n",
              "  <svg xmlns=\"http://www.w3.org/2000/svg\" height=\"24px\" viewBox=\"0 -960 960 960\">\n",
              "    <path d=\"M120-120v-720h720v720H120Zm60-500h600v-160H180v160Zm220 220h160v-160H400v160Zm0 220h160v-160H400v160ZM180-400h160v-160H180v160Zm440 0h160v-160H620v160ZM180-180h160v-160H180v160Zm440 0h160v-160H620v160Z\"/>\n",
              "  </svg>\n",
              "    </button>\n",
              "\n",
              "  <style>\n",
              "    .colab-df-container {\n",
              "      display:flex;\n",
              "      gap: 12px;\n",
              "    }\n",
              "\n",
              "    .colab-df-convert {\n",
              "      background-color: #E8F0FE;\n",
              "      border: none;\n",
              "      border-radius: 50%;\n",
              "      cursor: pointer;\n",
              "      display: none;\n",
              "      fill: #1967D2;\n",
              "      height: 32px;\n",
              "      padding: 0 0 0 0;\n",
              "      width: 32px;\n",
              "    }\n",
              "\n",
              "    .colab-df-convert:hover {\n",
              "      background-color: #E2EBFA;\n",
              "      box-shadow: 0px 1px 2px rgba(60, 64, 67, 0.3), 0px 1px 3px 1px rgba(60, 64, 67, 0.15);\n",
              "      fill: #174EA6;\n",
              "    }\n",
              "\n",
              "    .colab-df-buttons div {\n",
              "      margin-bottom: 4px;\n",
              "    }\n",
              "\n",
              "    [theme=dark] .colab-df-convert {\n",
              "      background-color: #3B4455;\n",
              "      fill: #D2E3FC;\n",
              "    }\n",
              "\n",
              "    [theme=dark] .colab-df-convert:hover {\n",
              "      background-color: #434B5C;\n",
              "      box-shadow: 0px 1px 3px 1px rgba(0, 0, 0, 0.15);\n",
              "      filter: drop-shadow(0px 1px 2px rgba(0, 0, 0, 0.3));\n",
              "      fill: #FFFFFF;\n",
              "    }\n",
              "  </style>\n",
              "\n",
              "    <script>\n",
              "      const buttonEl =\n",
              "        document.querySelector('#df-fcb7fa1e-0683-4968-8f16-1afc5c727cae button.colab-df-convert');\n",
              "      buttonEl.style.display =\n",
              "        google.colab.kernel.accessAllowed ? 'block' : 'none';\n",
              "\n",
              "      async function convertToInteractive(key) {\n",
              "        const element = document.querySelector('#df-fcb7fa1e-0683-4968-8f16-1afc5c727cae');\n",
              "        const dataTable =\n",
              "          await google.colab.kernel.invokeFunction('convertToInteractive',\n",
              "                                                    [key], {});\n",
              "        if (!dataTable) return;\n",
              "\n",
              "        const docLinkHtml = 'Like what you see? Visit the ' +\n",
              "          '<a target=\"_blank\" href=https://colab.research.google.com/notebooks/data_table.ipynb>data table notebook</a>'\n",
              "          + ' to learn more about interactive tables.';\n",
              "        element.innerHTML = '';\n",
              "        dataTable['output_type'] = 'display_data';\n",
              "        await google.colab.output.renderOutput(dataTable, element);\n",
              "        const docLink = document.createElement('div');\n",
              "        docLink.innerHTML = docLinkHtml;\n",
              "        element.appendChild(docLink);\n",
              "      }\n",
              "    </script>\n",
              "  </div>\n",
              "\n",
              "\n",
              "<div id=\"df-fc66fa27-98df-45f3-bc8e-114a71168ef6\">\n",
              "  <button class=\"colab-df-quickchart\" onclick=\"quickchart('df-fc66fa27-98df-45f3-bc8e-114a71168ef6')\"\n",
              "            title=\"Suggest charts\"\n",
              "            style=\"display:none;\">\n",
              "\n",
              "<svg xmlns=\"http://www.w3.org/2000/svg\" height=\"24px\"viewBox=\"0 0 24 24\"\n",
              "     width=\"24px\">\n",
              "    <g>\n",
              "        <path d=\"M19 3H5c-1.1 0-2 .9-2 2v14c0 1.1.9 2 2 2h14c1.1 0 2-.9 2-2V5c0-1.1-.9-2-2-2zM9 17H7v-7h2v7zm4 0h-2V7h2v10zm4 0h-2v-4h2v4z\"/>\n",
              "    </g>\n",
              "</svg>\n",
              "  </button>\n",
              "\n",
              "<style>\n",
              "  .colab-df-quickchart {\n",
              "      --bg-color: #E8F0FE;\n",
              "      --fill-color: #1967D2;\n",
              "      --hover-bg-color: #E2EBFA;\n",
              "      --hover-fill-color: #174EA6;\n",
              "      --disabled-fill-color: #AAA;\n",
              "      --disabled-bg-color: #DDD;\n",
              "  }\n",
              "\n",
              "  [theme=dark] .colab-df-quickchart {\n",
              "      --bg-color: #3B4455;\n",
              "      --fill-color: #D2E3FC;\n",
              "      --hover-bg-color: #434B5C;\n",
              "      --hover-fill-color: #FFFFFF;\n",
              "      --disabled-bg-color: #3B4455;\n",
              "      --disabled-fill-color: #666;\n",
              "  }\n",
              "\n",
              "  .colab-df-quickchart {\n",
              "    background-color: var(--bg-color);\n",
              "    border: none;\n",
              "    border-radius: 50%;\n",
              "    cursor: pointer;\n",
              "    display: none;\n",
              "    fill: var(--fill-color);\n",
              "    height: 32px;\n",
              "    padding: 0;\n",
              "    width: 32px;\n",
              "  }\n",
              "\n",
              "  .colab-df-quickchart:hover {\n",
              "    background-color: var(--hover-bg-color);\n",
              "    box-shadow: 0 1px 2px rgba(60, 64, 67, 0.3), 0 1px 3px 1px rgba(60, 64, 67, 0.15);\n",
              "    fill: var(--button-hover-fill-color);\n",
              "  }\n",
              "\n",
              "  .colab-df-quickchart-complete:disabled,\n",
              "  .colab-df-quickchart-complete:disabled:hover {\n",
              "    background-color: var(--disabled-bg-color);\n",
              "    fill: var(--disabled-fill-color);\n",
              "    box-shadow: none;\n",
              "  }\n",
              "\n",
              "  .colab-df-spinner {\n",
              "    border: 2px solid var(--fill-color);\n",
              "    border-color: transparent;\n",
              "    border-bottom-color: var(--fill-color);\n",
              "    animation:\n",
              "      spin 1s steps(1) infinite;\n",
              "  }\n",
              "\n",
              "  @keyframes spin {\n",
              "    0% {\n",
              "      border-color: transparent;\n",
              "      border-bottom-color: var(--fill-color);\n",
              "      border-left-color: var(--fill-color);\n",
              "    }\n",
              "    20% {\n",
              "      border-color: transparent;\n",
              "      border-left-color: var(--fill-color);\n",
              "      border-top-color: var(--fill-color);\n",
              "    }\n",
              "    30% {\n",
              "      border-color: transparent;\n",
              "      border-left-color: var(--fill-color);\n",
              "      border-top-color: var(--fill-color);\n",
              "      border-right-color: var(--fill-color);\n",
              "    }\n",
              "    40% {\n",
              "      border-color: transparent;\n",
              "      border-right-color: var(--fill-color);\n",
              "      border-top-color: var(--fill-color);\n",
              "    }\n",
              "    60% {\n",
              "      border-color: transparent;\n",
              "      border-right-color: var(--fill-color);\n",
              "    }\n",
              "    80% {\n",
              "      border-color: transparent;\n",
              "      border-right-color: var(--fill-color);\n",
              "      border-bottom-color: var(--fill-color);\n",
              "    }\n",
              "    90% {\n",
              "      border-color: transparent;\n",
              "      border-bottom-color: var(--fill-color);\n",
              "    }\n",
              "  }\n",
              "</style>\n",
              "\n",
              "  <script>\n",
              "    async function quickchart(key) {\n",
              "      const quickchartButtonEl =\n",
              "        document.querySelector('#' + key + ' button');\n",
              "      quickchartButtonEl.disabled = true;  // To prevent multiple clicks.\n",
              "      quickchartButtonEl.classList.add('colab-df-spinner');\n",
              "      try {\n",
              "        const charts = await google.colab.kernel.invokeFunction(\n",
              "            'suggestCharts', [key], {});\n",
              "      } catch (error) {\n",
              "        console.error('Error during call to suggestCharts:', error);\n",
              "      }\n",
              "      quickchartButtonEl.classList.remove('colab-df-spinner');\n",
              "      quickchartButtonEl.classList.add('colab-df-quickchart-complete');\n",
              "    }\n",
              "    (() => {\n",
              "      let quickchartButtonEl =\n",
              "        document.querySelector('#df-fc66fa27-98df-45f3-bc8e-114a71168ef6 button');\n",
              "      quickchartButtonEl.style.display =\n",
              "        google.colab.kernel.accessAllowed ? 'block' : 'none';\n",
              "    })();\n",
              "  </script>\n",
              "</div>\n",
              "    </div>\n",
              "  </div>\n"
            ]
          },
          "metadata": {},
          "execution_count": 10
        }
      ]
    },
    {
      "cell_type": "code",
      "source": [
        "#check for duplicated\n",
        "games.duplicated().sum()"
      ],
      "metadata": {
        "colab": {
          "base_uri": "https://localhost:8080/"
        },
        "id": "sCNiU0lh97-I",
        "outputId": "3fcac185-f207-49ab-e814-f31ea04db782"
      },
      "execution_count": 11,
      "outputs": [
        {
          "output_type": "execute_result",
          "data": {
            "text/plain": [
              "0"
            ]
          },
          "metadata": {},
          "execution_count": 11
        }
      ]
    },
    {
      "cell_type": "code",
      "source": [
        "#info\n",
        "games.info()"
      ],
      "metadata": {
        "colab": {
          "base_uri": "https://localhost:8080/"
        },
        "id": "CslhiUC3-DRd",
        "outputId": "7b96c4bd-2cb6-49fb-b515-728313b019ce"
      },
      "execution_count": 12,
      "outputs": [
        {
          "output_type": "stream",
          "name": "stdout",
          "text": [
            "<class 'pandas.core.frame.DataFrame'>\n",
            "RangeIndex: 78581 entries, 0 to 78580\n",
            "Data columns (total 39 columns):\n",
            " #   Column                      Non-Null Count  Dtype  \n",
            "---  ------                      --------------  -----  \n",
            " 0   AppID                       78581 non-null  int64  \n",
            " 1   Name                        78575 non-null  object \n",
            " 2   Release date                78581 non-null  object \n",
            " 3   Estimated owners            78581 non-null  object \n",
            " 4   Peak CCU                    78581 non-null  int64  \n",
            " 5   Required age                78581 non-null  int64  \n",
            " 6   Price                       78581 non-null  float64\n",
            " 7   DLC count                   78581 non-null  int64  \n",
            " 8   About the game              75646 non-null  object \n",
            " 9   Supported languages         78581 non-null  object \n",
            " 10  Full audio languages        78581 non-null  object \n",
            " 11  Reviews                     9518 non-null   object \n",
            " 12  Header image                78581 non-null  object \n",
            " 13  Website                     37575 non-null  object \n",
            " 14  Support url                 39140 non-null  object \n",
            " 15  Support email               66219 non-null  object \n",
            " 16  Windows                     78581 non-null  bool   \n",
            " 17  Mac                         78581 non-null  bool   \n",
            " 18  Linux                       78581 non-null  bool   \n",
            " 19  Metacritic score            78581 non-null  int64  \n",
            " 20  Metacritic url              3878 non-null   object \n",
            " 21  User score                  78581 non-null  int64  \n",
            " 22  Positive                    78581 non-null  int64  \n",
            " 23  Negative                    78581 non-null  int64  \n",
            " 24  Score rank                  44 non-null     float64\n",
            " 25  Achievements                78581 non-null  int64  \n",
            " 26  Recommendations             78581 non-null  int64  \n",
            " 27  Notes                       11728 non-null  object \n",
            " 28  Average playtime forever    78581 non-null  int64  \n",
            " 29  Average playtime two weeks  78581 non-null  int64  \n",
            " 30  Median playtime forever     78581 non-null  int64  \n",
            " 31  Median playtime two weeks   78581 non-null  int64  \n",
            " 32  Developers                  75625 non-null  object \n",
            " 33  Publishers                  75380 non-null  object \n",
            " 34  Categories                  74654 non-null  object \n",
            " 35  Genres                      75655 non-null  object \n",
            " 36  Tags                        60881 non-null  object \n",
            " 37  Screenshots                 76941 non-null  object \n",
            " 38  Movies                      72845 non-null  object \n",
            "dtypes: bool(3), float64(2), int64(14), object(20)\n",
            "memory usage: 21.8+ MB\n"
          ]
        }
      ]
    },
    {
      "cell_type": "code",
      "source": [
        "games.isnull().sum().sort_values()"
      ],
      "metadata": {
        "colab": {
          "base_uri": "https://localhost:8080/"
        },
        "id": "duHrbyTrCyhI",
        "outputId": "dcb5addb-e3e5-43cf-c240-f1fccbd62027"
      },
      "execution_count": 13,
      "outputs": [
        {
          "output_type": "execute_result",
          "data": {
            "text/plain": [
              "AppID                             0\n",
              "Median playtime two weeks         0\n",
              "Median playtime forever           0\n",
              "Average playtime two weeks        0\n",
              "Average playtime forever          0\n",
              "Recommendations                   0\n",
              "Achievements                      0\n",
              "Negative                          0\n",
              "Positive                          0\n",
              "User score                        0\n",
              "Linux                             0\n",
              "Mac                               0\n",
              "Windows                           0\n",
              "Metacritic score                  0\n",
              "Required age                      0\n",
              "Header image                      0\n",
              "Full audio languages              0\n",
              "Supported languages               0\n",
              "DLC count                         0\n",
              "Price                             0\n",
              "Release date                      0\n",
              "Peak CCU                          0\n",
              "Estimated owners                  0\n",
              "Name                              6\n",
              "Screenshots                    1640\n",
              "Genres                         2926\n",
              "About the game                 2935\n",
              "Developers                     2956\n",
              "Publishers                     3201\n",
              "Categories                     3927\n",
              "Movies                         5736\n",
              "Support email                 12362\n",
              "Tags                          17700\n",
              "Support url                   39441\n",
              "Website                       41006\n",
              "Notes                         66853\n",
              "Reviews                       69063\n",
              "Metacritic url                74703\n",
              "Score rank                    78537\n",
              "dtype: int64"
            ]
          },
          "metadata": {},
          "execution_count": 13
        }
      ]
    },
    {
      "cell_type": "code",
      "source": [
        "#display nulls as a graph\n",
        "\n",
        "null_counts = games.isnull().sum().sort_values() # sort values in ascending order\n",
        "\n",
        "\n",
        "plt.figure(figsize=(10,6))\n",
        "plt.bar(null_counts.index, null_counts.values, color = 'red')\n",
        "plt.xlabel('Columns')\n",
        "plt.ylabel('Number of Null Values')\n",
        "plt.title('Number of Nulls')\n",
        "plt.xticks(rotation = 45, ha= 'right') #angles the columns labels for better readability\n",
        "plt.tight_layout()\n",
        "plt.show()"
      ],
      "metadata": {
        "colab": {
          "base_uri": "https://localhost:8080/",
          "height": 607
        },
        "id": "CMjLODpIApU0",
        "outputId": "e2525827-8735-4478-d2e9-96ec581d8226"
      },
      "execution_count": 14,
      "outputs": [
        {
          "output_type": "display_data",
          "data": {
            "text/plain": [
              "<Figure size 1000x600 with 1 Axes>"
            ],
            "image/png": "[encoded data removed]"
          },
          "metadata": {}
        }
      ]
    },
    {
      "cell_type": "markdown",
      "source": [
        "**Columns to keep for sure even though we have some nulls:**\n",
        "\n",
        "*   Genres\n",
        "*   Developers\n",
        "*   Publishers\n",
        "*   Tags\n",
        "\n",
        "**Columns to review for dropping:**\n",
        "\n",
        "*   Screenshots\n",
        "*   About the Game\n",
        "*   Movies\n",
        "*   Support Emails\n",
        "*   Support url\n",
        "*   Website\n",
        "*   Notes\n",
        "*   Review\n",
        "*   Metacritic url\n",
        "*   Scorerank\n",
        "\n",
        "\n"
      ],
      "metadata": {
        "id": "PcRECK07N4y-"
      }
    },
    {
      "cell_type": "code",
      "source": [
        "#let's look at the nulls a little be closer\n",
        "\n",
        "null_threshold = 6\n",
        "\n",
        "columns_nulls = games.columns[games.isnull().sum() > null_threshold].tolist()\n",
        "\n",
        "#need to be careful. It looks like 'Genre', 'Categories' and 'Tags' are needed."
      ],
      "metadata": {
        "id": "LFN27cWoDSbe"
      },
      "execution_count": 15,
      "outputs": []
    },
    {
      "cell_type": "code",
      "source": [
        "columns_nulls"
      ],
      "metadata": {
        "colab": {
          "base_uri": "https://localhost:8080/"
        },
        "id": "tEz6G0BIDkru",
        "outputId": "f17b0874-ec8c-45cf-8077-05c843c77b36"
      },
      "execution_count": 16,
      "outputs": [
        {
          "output_type": "execute_result",
          "data": {
            "text/plain": [
              "['About the game',\n",
              " 'Reviews',\n",
              " 'Website',\n",
              " 'Support url',\n",
              " 'Support email',\n",
              " 'Metacritic url',\n",
              " 'Score rank',\n",
              " 'Notes',\n",
              " 'Developers',\n",
              " 'Publishers',\n",
              " 'Categories',\n",
              " 'Genres',\n",
              " 'Tags',\n",
              " 'Screenshots',\n",
              " 'Movies']"
            ]
          },
          "metadata": {},
          "execution_count": 16
        }
      ]
    },
    {
      "cell_type": "code",
      "source": [
        "# can drop. Might be interesting to do an analysis on this word bubble in a different analysis\n",
        "games['About the game'].unique"
      ],
      "metadata": {
        "colab": {
          "base_uri": "https://localhost:8080/"
        },
        "id": "3SHDfz85KuwX",
        "outputId": "35823f6c-5275-4276-af4e-4c07c68d968f"
      },
      "execution_count": 17,
      "outputs": [
        {
          "output_type": "execute_result",
          "data": {
            "text/plain": [
              "<bound method Series.unique of 0        Galactic Bowling is an exaggerated and stylize...\n",
              "1        THE LAW!! Looks to be a showdown atop a train....\n",
              "2        Jolt Project: The army now has a new robotics ...\n",
              "3        HENOSIS™ is a mysterious 2D Platform Puzzler w...\n",
              "4        ABOUT THE GAME Play as a hacker who has arrang...\n",
              "                               ...                        \n",
              "78576    Welcome to Desert Spirit Grave (DSG), an immer...\n",
              "78577    On our Steam discussion boards you will find m...\n",
              "78578    Протяжный скрип старых лагерных ворот эхом раз...\n",
              "78579    A treacherous visual novel about friendship, d...\n",
              "78580    Kayra's nightmare has come true! The evil, lef...\n",
              "Name: About the game, Length: 78581, dtype: object>"
            ]
          },
          "metadata": {},
          "execution_count": 17
        }
      ]
    },
    {
      "cell_type": "code",
      "source": [
        "# can drop\n",
        "games['Screenshots'].value_counts()"
      ],
      "metadata": {
        "colab": {
          "base_uri": "https://localhost:8080/"
        },
        "id": "_i71KQcQNPKO",
        "outputId": "3769677c-b2ad-42b2-998a-b68caa997eb0"
      },
      "execution_count": 18,
      "outputs": [
        {
          "output_type": "execute_result",
          "data": {
            "text/plain": [
              "https://cdn.akamai.steamstatic.com/steam/apps/750920/ss_3f370f69eef0caeceb533d06925cc48f0f26c83c.1920x1080.jpg?t=1644931091,https://cdn.akamai.steamstatic.com/steam/apps/750920/ss_3fcd62a2831bcc1e557a0fe2a061b6369ba030d1.1920x1080.jpg?t=1644931091,https://cdn.akamai.steamstatic.com/steam/apps/750920/ss_06a2446b7ccef5eaac1ef4200acdb3f02dac9ae0.1920x1080.jpg?t=1644931091,https://cdn.akamai.steamstatic.com/steam/apps/750920/ss_794a3ecd4ae51313f8cfffbc6b3d8b91c665b12b.1920x1080.jpg?t=1644931091,https://cdn.akamai.steamstatic.com/steam/apps/750920/ss_8907e0a624a1113be01fa1b426d0e3ab0971e7d2.1920x1080.jpg?t=1644931091,https://cdn.akamai.steamstatic.com/steam/apps/750920/ss_191adc1f11bf9d13498cb411ac71f29221732e86.1920x1080.jpg?t=1644931091,https://cdn.akamai.steamstatic.com/steam/apps/750920/ss_04b30aaa0ce083b1bcff63d06432707ab9c35c74.1920x1080.jpg?t=1644931091,https://cdn.akamai.steamstatic.com/steam/apps/750920/ss_7496de2518ddb1b58db0004d1386b4e48c442367.1920x1080.jpg?t=1644931091,https://cdn.akamai.steamstatic.com/steam/apps/750920/ss_e6f6fc32892cd8463199dd37040995011f06311b.1920x1080.jpg?t=1644931091,https://cdn.akamai.steamstatic.com/steam/apps/750920/ss_a98e6f581b293d80e722a143a038c22bb11e1a0d.1920x1080.jpg?t=1644931091                                                                                                                                                                                                                                                                                                                                                                                                                                                                                                                                                                                                                                                                                                                                                                                                                                                                                                                                                                                                                                                                                                                                                                                                                                                                                                                                                                                                                                             20\n",
              "https://cdn.akamai.steamstatic.com/steam/apps/24010/ss_c9a8c7f5f6218ac0b7b77ab04aa6c703f50da919.1920x1080.jpg?t=1658409119,https://cdn.akamai.steamstatic.com/steam/apps/24010/ss_824277936a9e26ccbf9538575660ec3ce0215923.1920x1080.jpg?t=1658409119,https://cdn.akamai.steamstatic.com/steam/apps/24010/ss_99d418c4e5712edb2caa7218f26198dab84c650e.1920x1080.jpg?t=1658409119,https://cdn.akamai.steamstatic.com/steam/apps/24010/ss_14e28101a557678b234410f1a8671a84652e3c6b.1920x1080.jpg?t=1658409119,https://cdn.akamai.steamstatic.com/steam/apps/24010/ss_66351752175c38a3d34113aa5c585da65738532d.1920x1080.jpg?t=1658409119,https://cdn.akamai.steamstatic.com/steam/apps/24010/ss_5bb05d4aee7739609c1cd34b099848bc2b71661b.1920x1080.jpg?t=1658409119,https://cdn.akamai.steamstatic.com/steam/apps/24010/ss_0019f8c7f73ba5a4d7a50616131e921c891a80b5.1920x1080.jpg?t=1658409119,https://cdn.akamai.steamstatic.com/steam/apps/24010/ss_75af0827597e9c6a73e55beab24d7024a48eef92.1920x1080.jpg?t=1658409119,https://cdn.akamai.steamstatic.com/steam/apps/24010/ss_523d4f411b67920f8c7f2c824d59a17626e42fff.1920x1080.jpg?t=1658409119                                                                                                                                                                                                                                                                                                                                                                                                                                                                                                                                                                                                                                                                                                                                                                                                                                                                                                                                                                                                                                                                                                                                                                                                                                                                                                                                                                                                                                                                                                                                                                                   5\n",
              "https://cdn.akamai.steamstatic.com/steam/apps/359550/ss_79af6b4e7ea15b745c0c315e4ae8f7450bb64f58.1920x1080.jpg?t=1655223333,https://cdn.akamai.steamstatic.com/steam/apps/359550/ss_0d619a68898400c9cd59b1afa2e36bd50f12d0b5.1920x1080.jpg?t=1655223333,https://cdn.akamai.steamstatic.com/steam/apps/359550/ss_6d4e3b1021a489106f33c054bcb0e74ea4bd706f.1920x1080.jpg?t=1655223333,https://cdn.akamai.steamstatic.com/steam/apps/359550/ss_2f720e4694ba324ee6036a4ce8595a839de3f185.1920x1080.jpg?t=1655223333,https://cdn.akamai.steamstatic.com/steam/apps/359550/ss_98496d46ee7b79cff764f4c910e2ecfbce571b84.1920x1080.jpg?t=1655223333,https://cdn.akamai.steamstatic.com/steam/apps/359550/ss_01dbd675c184301a53fad53431dcf062a07aae77.1920x1080.jpg?t=1655223333,https://cdn.akamai.steamstatic.com/steam/apps/359550/ss_c154437ca6e715eb93d040ec0a2c7adcd4b14c6a.1920x1080.jpg?t=1655223333,https://cdn.akamai.steamstatic.com/steam/apps/359550/ss_d1c935a8bf84112d7d706ac027033a647ae6b43a.1920x1080.jpg?t=1655223333,https://cdn.akamai.steamstatic.com/steam/apps/359550/ss_79fb9bcb693dff9d0eec7b7464ff09a6c2ff982c.1920x1080.jpg?t=1655223333,https://cdn.akamai.steamstatic.com/steam/apps/359550/ss_0e82483676fd6c0ba487ca94df18ab4110552b25.1920x1080.jpg?t=1655223333,https://cdn.akamai.steamstatic.com/steam/apps/359550/ss_53935c908d140b2939e3eed82b8d73228996fad7.1920x1080.jpg?t=1655223333,https://cdn.akamai.steamstatic.com/steam/apps/359550/ss_c42326c9b99745e4925d4f57d2b602c13f844bef.1920x1080.jpg?t=1655223333,https://cdn.akamai.steamstatic.com/steam/apps/359550/ss_55423fc019a9fa26d981c361feaeabb83c140d45.1920x1080.jpg?t=1655223333,https://cdn.akamai.steamstatic.com/steam/apps/359550/ss_8ef0bf633519ae77cee0d5fb4ba61f048754db65.1920x1080.jpg?t=1655223333,https://cdn.akamai.steamstatic.com/steam/apps/359550/ss_71e3c7ac7f6b9c081cc810d4b4b7c0e6e89db4c4.1920x1080.jpg?t=1655223333,https://cdn.akamai.steamstatic.com/steam/apps/359550/ss_1572acfa5f6c988325742ad831ed797fd1c61b91.1920x1080.jpg?t=1655223333,https://cdn.akamai.steamstatic.com/steam/apps/359550/ss_9759ab3e8d6792cda90b163cfe21de377266425c.1920x1080.jpg?t=1655223333                                                                                                                                                                                                                                                                                                                                                                                                                                                                                                                                          5\n",
              "https://cdn.akamai.steamstatic.com/steam/apps/37960/ss_e6b45075c0be275f7becce84baa1142faf6c1ad5.1920x1080.jpg?t=1447352428,https://cdn.akamai.steamstatic.com/steam/apps/37960/ss_57c750aff2b3b111915d49dc6282cc41f0b662e2.1920x1080.jpg?t=1447352428,https://cdn.akamai.steamstatic.com/steam/apps/37960/ss_2c0b6539c6cdb5cf24aeaa9859cf6aade75a7c40.1920x1080.jpg?t=1447352428,https://cdn.akamai.steamstatic.com/steam/apps/37960/ss_25836a7da6119b0691a4f035b11dc659607befd3.1920x1080.jpg?t=1447352428,https://cdn.akamai.steamstatic.com/steam/apps/37960/ss_4b406d176f2ec4f4dcd28780e1ac8b056014a9e8.1920x1080.jpg?t=1447352428,https://cdn.akamai.steamstatic.com/steam/apps/37960/ss_09baca984d0fccc627553ad8f1985ef935bb07fc.1920x1080.jpg?t=1447352428,https://cdn.akamai.steamstatic.com/steam/apps/37960/ss_bef167ec5379118418d6c7c89c85c71e15aa1ed2.1920x1080.jpg?t=1447352428,https://cdn.akamai.steamstatic.com/steam/apps/37960/ss_715824dac5f65046a5654b51a54eb30c0ba992ea.1920x1080.jpg?t=1447352428,https://cdn.akamai.steamstatic.com/steam/apps/37960/ss_4d35b9794d071f5e26d87b11fef2ebfce4ab2b57.1920x1080.jpg?t=1447352428,https://cdn.akamai.steamstatic.com/steam/apps/37960/ss_0e4294b20491c9232cf5a475976f9f6f99415c93.1920x1080.jpg?t=1447352428                                                                                                                                                                                                                                                                                                                                                                                                                                                                                                                                                                                                                                                                                                                                                                                                                                                                                                                                                                                                                                                                                                                                                                                                                                                                                                                                                                                                                                                        4\n",
              "https://cdn.akamai.steamstatic.com/steam/apps/2540/0000002027.1920x1080.jpg?t=1501868093,https://cdn.akamai.steamstatic.com/steam/apps/2540/0000002028.1920x1080.jpg?t=1501868093,https://cdn.akamai.steamstatic.com/steam/apps/2540/0000002029.1920x1080.jpg?t=1501868093,https://cdn.akamai.steamstatic.com/steam/apps/2540/0000002030.1920x1080.jpg?t=1501868093,https://cdn.akamai.steamstatic.com/steam/apps/2540/0000002031.1920x1080.jpg?t=1501868093,https://cdn.akamai.steamstatic.com/steam/apps/2540/0000002032.1920x1080.jpg?t=1501868093,https://cdn.akamai.steamstatic.com/steam/apps/2540/0000002033.1920x1080.jpg?t=1501868093,https://cdn.akamai.steamstatic.com/steam/apps/2540/0000002034.1920x1080.jpg?t=1501868093                                                                                                                                                                                                                                                                                                                                                                                                                                                                                                                                                                                                                                                                                                                                                                                                                                                                                                                                                                                                                                                                                                                                                                                                                                                                                                                                                                                                                                                                                                                                                                                                                                                                                                                                                                                                                                                                                                                                                                                              3\n",
              "                                                                                                                                                                                                                                                                                                                                                                                                                                                                                                                                                                                                                                                                                                                                                                                                                                                                                                                                                                                                                                                                                                                                                                                                                                                                                                                                                                                                                                                                                                                                                                                                                                                                                                                                                                                                                                                                                                                                                                                                                                                                                                                                                                                                                                                                                                                                                                                                                                                                                                                                                                                                                                                                                                                                    ..\n",
              "https://cdn.akamai.steamstatic.com/steam/apps/694400/ss_16f1cf6f6e6081d53f4fb01c73d107f0056aec59.1920x1080.jpg?t=1614807310,https://cdn.akamai.steamstatic.com/steam/apps/694400/ss_b4f6b5624a4e45fe84e2b0bbf8cd300418c7fa01.1920x1080.jpg?t=1614807310,https://cdn.akamai.steamstatic.com/steam/apps/694400/ss_455ea1ac059bdd80945ed212285aac1028f254d4.1920x1080.jpg?t=1614807310,https://cdn.akamai.steamstatic.com/steam/apps/694400/ss_473e0b894e6be391e8d6d47c49e15c56ba606a70.1920x1080.jpg?t=1614807310,https://cdn.akamai.steamstatic.com/steam/apps/694400/ss_59701df32c85affe19fd5d4415802b9c6abb0791.1920x1080.jpg?t=1614807310                                                                                                                                                                                                                                                                                                                                                                                                                                                                                                                                                                                                                                                                                                                                                                                                                                                                                                                                                                                                                                                                                                                                                                                                                                                                                                                                                                                                                                                                                                                                                                                                                                                                                                                                                                                                                                                                                                                                                                                                                                                                                          1\n",
              "https://cdn.akamai.steamstatic.com/steam/apps/1532300/ss_c88be78809035e22058225373f3f8c9307e7b998.1920x1080.jpg?t=1647128487,https://cdn.akamai.steamstatic.com/steam/apps/1532300/ss_38fcdc714b8e9859a764d79b5e6c03f51918045b.1920x1080.jpg?t=1647128487,https://cdn.akamai.steamstatic.com/steam/apps/1532300/ss_2c5fdcfe74537fc1ce73af22872a64fce703d40e.1920x1080.jpg?t=1647128487,https://cdn.akamai.steamstatic.com/steam/apps/1532300/ss_1cac50bb8500ba3be2670fb710e0036e4a83a69d.1920x1080.jpg?t=1647128487,https://cdn.akamai.steamstatic.com/steam/apps/1532300/ss_2ed5b07359a1ba1382ab6294a6d43ec44fd60e99.1920x1080.jpg?t=1647128487,https://cdn.akamai.steamstatic.com/steam/apps/1532300/ss_481a29846b77fe74157f1f5f8d03159305fb33bf.1920x1080.jpg?t=1647128487,https://cdn.akamai.steamstatic.com/steam/apps/1532300/ss_94bae72e4f09a21e7355477147c964ba81e9e1b3.1920x1080.jpg?t=1647128487,https://cdn.akamai.steamstatic.com/steam/apps/1532300/ss_d7c3f328059086b18d804053b48380d5798d1463.1920x1080.jpg?t=1647128487,https://cdn.akamai.steamstatic.com/steam/apps/1532300/ss_6adc82a298ff89649bd7bf191e0c062a62b51914.1920x1080.jpg?t=1647128487,https://cdn.akamai.steamstatic.com/steam/apps/1532300/ss_550db8a14eab3a4867789edba953fe6f58a6db20.1920x1080.jpg?t=1647128487,https://cdn.akamai.steamstatic.com/steam/apps/1532300/ss_30812d340acd2fd2f0a0e0bced6cf9869b31d5d5.1920x1080.jpg?t=1647128487,https://cdn.akamai.steamstatic.com/steam/apps/1532300/ss_69d705124b825f3e27962c00bdfc026be445e0b3.1920x1080.jpg?t=1647128487,https://cdn.akamai.steamstatic.com/steam/apps/1532300/ss_61acd7440b223d35a8977d30865b03df382d9826.1920x1080.jpg?t=1647128487,https://cdn.akamai.steamstatic.com/steam/apps/1532300/ss_751652ce6673c6c25132cde6346d09bde5d63a57.1920x1080.jpg?t=1647128487,https://cdn.akamai.steamstatic.com/steam/apps/1532300/ss_ea97e0a5a24b81b455f9f1efe556ed5ebca34768.1920x1080.jpg?t=1647128487,https://cdn.akamai.steamstatic.com/steam/apps/1532300/ss_12c8239e45eb3b0f3f352ba91a96db95c2db4e7b.1920x1080.jpg?t=1647128487,https://cdn.akamai.steamstatic.com/steam/apps/1532300/ss_9fa18e6278c3d4b68896089534fd2954dd531da7.1920x1080.jpg?t=1647128487,https://cdn.akamai.steamstatic.com/steam/apps/1532300/ss_24f889e49b450c871aa184cf7a2a3e091899130c.1920x1080.jpg?t=1647128487,https://cdn.akamai.steamstatic.com/steam/apps/1532300/ss_1616f5aacaac956e6cd46d1fac5f3c246415bafd.1920x1080.jpg?t=1647128487,https://cdn.akamai.steamstatic.com/steam/apps/1532300/ss_e60a046aa83368cee609d65bf4ae8c0145f8f77e.1920x1080.jpg?t=1647128487,https://cdn.akamai.steamstatic.com/steam/apps/1532300/ss_c85bb92967d7a28f2f0ea01747851c7a1b949374.1920x1080.jpg?t=1647128487     1\n",
              "https://cdn.akamai.steamstatic.com/steam/apps/936630/ss_858be7c6716cbcce23eeab3898d131503f2779cd.1920x1080.jpg?t=1583066586,https://cdn.akamai.steamstatic.com/steam/apps/936630/ss_811ccffee751fd98585d12c7abd3181843f9ad62.1920x1080.jpg?t=1583066586,https://cdn.akamai.steamstatic.com/steam/apps/936630/ss_4b372b007e0e384979aa065f1390507a862f9ca7.1920x1080.jpg?t=1583066586,https://cdn.akamai.steamstatic.com/steam/apps/936630/ss_b9ea7ef8e4e2a6bdb73baf44cda80b45e4f8e726.1920x1080.jpg?t=1583066586,https://cdn.akamai.steamstatic.com/steam/apps/936630/ss_0c1bd54d09cf8b7e745839fafef003812d7a47ac.1920x1080.jpg?t=1583066586                                                                                                                                                                                                                                                                                                                                                                                                                                                                                                                                                                                                                                                                                                                                                                                                                                                                                                                                                                                                                                                                                                                                                                                                                                                                                                                                                                                                                                                                                                                                                                                                                                                                                                                                                                                                                                                                                                                                                                                                                                                                                          1\n",
              "https://cdn.akamai.steamstatic.com/steam/apps/652470/ss_b597ba8e7b450feb3d8db3b3ed6abc512e7e2577.1920x1080.jpg?t=1515729735,https://cdn.akamai.steamstatic.com/steam/apps/652470/ss_5718cba917a2fd8ac9ff28c8d8088ea7c0f3d388.1920x1080.jpg?t=1515729735,https://cdn.akamai.steamstatic.com/steam/apps/652470/ss_85e2a55928d72f89a488e66ec34523f84bcfeb08.1920x1080.jpg?t=1515729735,https://cdn.akamai.steamstatic.com/steam/apps/652470/ss_636772852c8db9c3111d1b2d6ee3dddd5ff9153a.1920x1080.jpg?t=1515729735,https://cdn.akamai.steamstatic.com/steam/apps/652470/ss_636578df9ee1e055fff8c31307c965ca141369d7.1920x1080.jpg?t=1515729735,https://cdn.akamai.steamstatic.com/steam/apps/652470/ss_88021c1588e0f418f2249a91f02cf294670d9780.1920x1080.jpg?t=1515729735                                                                                                                                                                                                                                                                                                                                                                                                                                                                                                                                                                                                                                                                                                                                                                                                                                                                                                                                                                                                                                                                                                                                                                                                                                                                                                                                                                                                                                                                                                                                                                                                                                                                                                                                                                                                                                                                                                                                                              1\n",
              "https://cdn.akamai.steamstatic.com/steam/apps/1745050/ss_ddab5a52ba5dde13f9f0f33232087b4248f36579.1920x1080.jpg?t=1693521116,https://cdn.akamai.steamstatic.com/steam/apps/1745050/ss_51373aada7eee81bbd692fd8894b99fdb41aee71.1920x1080.jpg?t=1693521116,https://cdn.akamai.steamstatic.com/steam/apps/1745050/ss_14e3a4e72e74371214e519fd8dfffcd62992dc5d.1920x1080.jpg?t=1693521116,https://cdn.akamai.steamstatic.com/steam/apps/1745050/ss_79f069148e33332868e67558fdabf9c875c3322f.1920x1080.jpg?t=1693521116,https://cdn.akamai.steamstatic.com/steam/apps/1745050/ss_461921297e2ba47082178bae7600f57a2b7a6004.1920x1080.jpg?t=1693521116,https://cdn.akamai.steamstatic.com/steam/apps/1745050/ss_481233f2ad0ef392b45ebcdf3154b0c5462e6a4f.1920x1080.jpg?t=1693521116,https://cdn.akamai.steamstatic.com/steam/apps/1745050/ss_c6b104418d14f29e59cd1e2505dbcacd7e43f559.1920x1080.jpg?t=1693521116,https://cdn.akamai.steamstatic.com/steam/apps/1745050/ss_1983fba0935857cb8201c1ad090a868a05e9942d.1920x1080.jpg?t=1693521116,https://cdn.akamai.steamstatic.com/steam/apps/1745050/ss_cc9a8a472752d3bb10018b577c09919c8810ee20.1920x1080.jpg?t=1693521116,https://cdn.akamai.steamstatic.com/steam/apps/1745050/ss_1beaf63b4590d1511d7387475cc3111f8b534b99.1920x1080.jpg?t=1693521116,https://cdn.akamai.steamstatic.com/steam/apps/1745050/ss_57a9581726252d4b120f8ee95b423a9fdabe45e8.1920x1080.jpg?t=1693521116,https://cdn.akamai.steamstatic.com/steam/apps/1745050/ss_e20a2b61f2059ba9eea36ed4c27c320f92aac5ab.1920x1080.jpg?t=1693521116                                                                                                                                                                                                                                                                                                                                                                                                                                                                                                                                                                                                                                                                                                                                                                                                                                                                                                                                                                                                                                                                                                                                                                          1\n",
              "Name: Screenshots, Length: 76835, dtype: int64"
            ]
          },
          "metadata": {},
          "execution_count": 18
        }
      ]
    },
    {
      "cell_type": "code",
      "source": [
        "#split dataframe\n",
        "games_with_nulls = games[columns_nulls]\n",
        "games_without_nulls = games.drop(columns=columns_nulls)"
      ],
      "metadata": {
        "id": "UvBlvFjIGDLY"
      },
      "execution_count": 19,
      "outputs": []
    },
    {
      "cell_type": "code",
      "source": [
        "games_without_nulls.info()"
      ],
      "metadata": {
        "colab": {
          "base_uri": "https://localhost:8080/"
        },
        "id": "J6NdD7AFGC21",
        "outputId": "61cc2633-45e3-465e-c4e4-a7965956294e"
      },
      "execution_count": 20,
      "outputs": [
        {
          "output_type": "stream",
          "name": "stdout",
          "text": [
            "<class 'pandas.core.frame.DataFrame'>\n",
            "RangeIndex: 78581 entries, 0 to 78580\n",
            "Data columns (total 24 columns):\n",
            " #   Column                      Non-Null Count  Dtype  \n",
            "---  ------                      --------------  -----  \n",
            " 0   AppID                       78581 non-null  int64  \n",
            " 1   Name                        78575 non-null  object \n",
            " 2   Release date                78581 non-null  object \n",
            " 3   Estimated owners            78581 non-null  object \n",
            " 4   Peak CCU                    78581 non-null  int64  \n",
            " 5   Required age                78581 non-null  int64  \n",
            " 6   Price                       78581 non-null  float64\n",
            " 7   DLC count                   78581 non-null  int64  \n",
            " 8   Supported languages         78581 non-null  object \n",
            " 9   Full audio languages        78581 non-null  object \n",
            " 10  Header image                78581 non-null  object \n",
            " 11  Windows                     78581 non-null  bool   \n",
            " 12  Mac                         78581 non-null  bool   \n",
            " 13  Linux                       78581 non-null  bool   \n",
            " 14  Metacritic score            78581 non-null  int64  \n",
            " 15  User score                  78581 non-null  int64  \n",
            " 16  Positive                    78581 non-null  int64  \n",
            " 17  Negative                    78581 non-null  int64  \n",
            " 18  Achievements                78581 non-null  int64  \n",
            " 19  Recommendations             78581 non-null  int64  \n",
            " 20  Average playtime forever    78581 non-null  int64  \n",
            " 21  Average playtime two weeks  78581 non-null  int64  \n",
            " 22  Median playtime forever     78581 non-null  int64  \n",
            " 23  Median playtime two weeks   78581 non-null  int64  \n",
            "dtypes: bool(3), float64(1), int64(14), object(6)\n",
            "memory usage: 12.8+ MB\n"
          ]
        }
      ]
    },
    {
      "cell_type": "code",
      "source": [
        "games_with_nulls.info()"
      ],
      "metadata": {
        "colab": {
          "base_uri": "https://localhost:8080/"
        },
        "id": "YRHOgzmAGDBd",
        "outputId": "43d28a71-677f-434e-8806-b7bcffac4635"
      },
      "execution_count": 21,
      "outputs": [
        {
          "output_type": "stream",
          "name": "stdout",
          "text": [
            "<class 'pandas.core.frame.DataFrame'>\n",
            "RangeIndex: 78581 entries, 0 to 78580\n",
            "Data columns (total 15 columns):\n",
            " #   Column          Non-Null Count  Dtype  \n",
            "---  ------          --------------  -----  \n",
            " 0   About the game  75646 non-null  object \n",
            " 1   Reviews         9518 non-null   object \n",
            " 2   Website         37575 non-null  object \n",
            " 3   Support url     39140 non-null  object \n",
            " 4   Support email   66219 non-null  object \n",
            " 5   Metacritic url  3878 non-null   object \n",
            " 6   Score rank      44 non-null     float64\n",
            " 7   Notes           11728 non-null  object \n",
            " 8   Developers      75625 non-null  object \n",
            " 9   Publishers      75380 non-null  object \n",
            " 10  Categories      74654 non-null  object \n",
            " 11  Genres          75655 non-null  object \n",
            " 12  Tags            60881 non-null  object \n",
            " 13  Screenshots     76941 non-null  object \n",
            " 14  Movies          72845 non-null  object \n",
            "dtypes: float64(1), object(14)\n",
            "memory usage: 9.0+ MB\n"
          ]
        }
      ]
    },
    {
      "cell_type": "markdown",
      "source": [
        "#  Review columns to see which I really don't need."
      ],
      "metadata": {
        "id": "Onuhp9zraASx"
      }
    },
    {
      "cell_type": "code",
      "source": [
        "# can drop\n",
        "games['Support email'].value_counts()"
      ],
      "metadata": {
        "id": "rG5-E0N0IOk9",
        "colab": {
          "base_uri": "https://localhost:8080/"
        },
        "outputId": "d0addcb7-1326-44d0-8756-a05a04ac4753"
      },
      "execution_count": 22,
      "outputs": [
        {
          "output_type": "execute_result",
          "data": {
            "text/plain": [
              "info@bigfishgames.com                             325\n",
              "mikhail.zverev@8floor.net                         268\n",
              "business@atomicfabrik.com                         186\n",
              "contact@exosyphenstudios.com                      153\n",
              "support@quanticlab.com                            148\n",
              "                                                 ... \n",
              "support@systemic-games.com                          1\n",
              "info@primegames.bg                                  1\n",
              "info@escaperealityuk.space                          1\n",
              "support-deathcollector-steam@choiceofgames.com      1\n",
              "witchcraftvidgame@gmail.com                         1\n",
              "Name: Support email, Length: 39022, dtype: int64"
            ]
          },
          "metadata": {},
          "execution_count": 22
        }
      ]
    },
    {
      "cell_type": "code",
      "source": [
        "# can drop\n",
        "games['Score rank'].value_counts()"
      ],
      "metadata": {
        "colab": {
          "base_uri": "https://localhost:8080/"
        },
        "id": "32aLuRiORoeL",
        "outputId": "77719183-2939-4922-bfeb-7a597693882d"
      },
      "execution_count": 23,
      "outputs": [
        {
          "output_type": "execute_result",
          "data": {
            "text/plain": [
              "99.0     18\n",
              "98.0     12\n",
              "100.0    12\n",
              "97.0      2\n",
              "Name: Score rank, dtype: int64"
            ]
          },
          "metadata": {},
          "execution_count": 23
        }
      ]
    },
    {
      "cell_type": "code",
      "source": [
        "# can drop\n",
        "games['Notes'].value_counts()"
      ],
      "metadata": {
        "colab": {
          "base_uri": "https://localhost:8080/"
        },
        "id": "fIRFXpeAVlQ9",
        "outputId": "a0b08d3d-8b08-4a1f-ca1b-0679ccbcc0c2"
      },
      "execution_count": 24,
      "outputs": [
        {
          "output_type": "execute_result",
          "data": {
            "text/plain": [
              "This Game may contain content not appropriate for all ages, or may not be appropriate for viewing at work: Frequent Violence or Gore, General Mature Content                                                                        106\n",
              "Nakedness. All characters appearing in this game are over 18 years of age.                                                                                                                                                          101\n",
              "-Nudity or sexual content -Not suitable for watching at work -Not suitable for all ages -All characters in the game are over 18 years old                                                                                            57\n",
              "This Game may contain content not appropriate for all ages, or may not be appropriate for viewing at work: Nudity or Sexual Content, General Mature Content                                                                          42\n",
              "This game contains the following sexual content ・Strong language ・Sexual language                                                                                                                                                    39\n",
              "                                                                                                                                                                                                                                   ... \n",
              "This game continues with repeated violent scenes.                                                                                                                                                                                     1\n",
              "Slight violence, blood                                                                                                                                                                                                                1\n",
              "This game depicts sexual acts between the player and a female or male monsters. All characters depicted are over the age of 20.                                                                                                       1\n",
              "Graphic paintings, smoking                                                                                                                                                                                                            1\n",
              "This game may contain content that is not suitable for all ages: Gameplay consists of frequent combat scenarios with characters slash/stab/impale enemies. Infrequent nudity, frequent violence or blood, general adult content.      1\n",
              "Name: Notes, Length: 9524, dtype: int64"
            ]
          },
          "metadata": {},
          "execution_count": 24
        }
      ]
    },
    {
      "cell_type": "markdown",
      "source": [
        "**Columns to be dropped will be the following:**\n",
        "\n",
        "* 'About the game'\n",
        "* 'Reviews'\n",
        "* 'Website'\n",
        "* 'Support url'\n",
        "* 'Support email'\n",
        "* 'Metacritic url'\n",
        "* 'Score rank'\n",
        "* 'Notes'\n",
        "* 'Screenshots'\n",
        "* 'Movies'\n",
        "\n",
        "These columns are mostly text and will not apply to the analysis to be done.\n",
        "\n",
        "\n"
      ],
      "metadata": {
        "id": "hPWlTlN6Yyj1"
      }
    },
    {
      "cell_type": "code",
      "source": [
        "#columns that would be need to be dropped.\n",
        "drop_me =  ['About the game', 'Reviews', 'Website', 'Support url', 'Support email', 'Metacritic url', 'Score rank', 'Notes', 'Screenshots', 'Movies']"
      ],
      "metadata": {
        "id": "gD1cFkXLYyJP"
      },
      "execution_count": 25,
      "outputs": []
    },
    {
      "cell_type": "code",
      "source": [
        "#dropping unneccessary columns\n",
        "games = games.drop(columns = drop_me)"
      ],
      "metadata": {
        "id": "39XCaDgTZwUv"
      },
      "execution_count": 26,
      "outputs": []
    },
    {
      "cell_type": "code",
      "source": [
        "games.info()"
      ],
      "metadata": {
        "colab": {
          "base_uri": "https://localhost:8080/"
        },
        "id": "nXCAqR7saqGG",
        "outputId": "90753561-fcaa-4037-940e-d01c8c4cf4b7"
      },
      "execution_count": 27,
      "outputs": [
        {
          "output_type": "stream",
          "name": "stdout",
          "text": [
            "<class 'pandas.core.frame.DataFrame'>\n",
            "RangeIndex: 78581 entries, 0 to 78580\n",
            "Data columns (total 29 columns):\n",
            " #   Column                      Non-Null Count  Dtype  \n",
            "---  ------                      --------------  -----  \n",
            " 0   AppID                       78581 non-null  int64  \n",
            " 1   Name                        78575 non-null  object \n",
            " 2   Release date                78581 non-null  object \n",
            " 3   Estimated owners            78581 non-null  object \n",
            " 4   Peak CCU                    78581 non-null  int64  \n",
            " 5   Required age                78581 non-null  int64  \n",
            " 6   Price                       78581 non-null  float64\n",
            " 7   DLC count                   78581 non-null  int64  \n",
            " 8   Supported languages         78581 non-null  object \n",
            " 9   Full audio languages        78581 non-null  object \n",
            " 10  Header image                78581 non-null  object \n",
            " 11  Windows                     78581 non-null  bool   \n",
            " 12  Mac                         78581 non-null  bool   \n",
            " 13  Linux                       78581 non-null  bool   \n",
            " 14  Metacritic score            78581 non-null  int64  \n",
            " 15  User score                  78581 non-null  int64  \n",
            " 16  Positive                    78581 non-null  int64  \n",
            " 17  Negative                    78581 non-null  int64  \n",
            " 18  Achievements                78581 non-null  int64  \n",
            " 19  Recommendations             78581 non-null  int64  \n",
            " 20  Average playtime forever    78581 non-null  int64  \n",
            " 21  Average playtime two weeks  78581 non-null  int64  \n",
            " 22  Median playtime forever     78581 non-null  int64  \n",
            " 23  Median playtime two weeks   78581 non-null  int64  \n",
            " 24  Developers                  75625 non-null  object \n",
            " 25  Publishers                  75380 non-null  object \n",
            " 26  Categories                  74654 non-null  object \n",
            " 27  Genres                      75655 non-null  object \n",
            " 28  Tags                        60881 non-null  object \n",
            "dtypes: bool(3), float64(1), int64(14), object(11)\n",
            "memory usage: 15.8+ MB\n"
          ]
        }
      ]
    },
    {
      "cell_type": "code",
      "source": [
        "# can drop\n",
        "games['Header image'].value_counts()"
      ],
      "metadata": {
        "colab": {
          "base_uri": "https://localhost:8080/"
        },
        "id": "IeL1Cyoqa1s6",
        "outputId": "55d5c3ac-bce2-4844-d3a1-06324aa54d46"
      },
      "execution_count": 28,
      "outputs": [
        {
          "output_type": "execute_result",
          "data": {
            "text/plain": [
              "https://cdn.akamai.steamstatic.com/steam/apps/750920/header.jpg?t=1644931091     20\n",
              "https://cdn.akamai.steamstatic.com/steam/apps/24010/header.jpg?t=1658409119       5\n",
              "https://cdn.akamai.steamstatic.com/steam/apps/359550/header.jpg?t=1655223333      5\n",
              "https://cdn.akamai.steamstatic.com/steam/apps/37960/header.jpg?t=1447352428       4\n",
              "https://cdn.akamai.steamstatic.com/steam/apps/18430/header.jpg?t=1447351615       3\n",
              "                                                                                 ..\n",
              "https://cdn.akamai.steamstatic.com/steam/apps/1971510/header.jpg?t=1650969228     1\n",
              "https://cdn.akamai.steamstatic.com/steam/apps/1020360/header.jpg?t=1587457888     1\n",
              "https://cdn.akamai.steamstatic.com/steam/apps/20710/header.jpg?t=1499419184       1\n",
              "https://cdn.akamai.steamstatic.com/steam/apps/1423610/header.jpg?t=1637609296     1\n",
              "https://cdn.akamai.steamstatic.com/steam/apps/1745050/header.jpg?t=1693521116     1\n",
              "Name: Header image, Length: 78475, dtype: int64"
            ]
          },
          "metadata": {},
          "execution_count": 28
        }
      ]
    },
    {
      "cell_type": "code",
      "source": [
        "# can drop\n",
        "games['Full audio languages'].value_counts()"
      ],
      "metadata": {
        "colab": {
          "base_uri": "https://localhost:8080/"
        },
        "id": "-UbXx7lMa1go",
        "outputId": "8f9b384a-2baa-4992-fba9-1bab2c3679bd"
      },
      "execution_count": 29,
      "outputs": [
        {
          "output_type": "execute_result",
          "data": {
            "text/plain": [
              "[]                                                                                                                                                                     45465\n",
              "['English']                                                                                                                                                            18522\n",
              "['English', 'Russian']                                                                                                                                                  1235\n",
              "['English', 'Simplified Chinese']                                                                                                                                       1075\n",
              "['Simplified Chinese']                                                                                                                                                   878\n",
              "                                                                                                                                                                       ...  \n",
              "['English', 'Korean', 'Simplified Chinese', 'French']                                                                                                                      1\n",
              "['English', 'Simplified Chinese', 'Italian', 'German', 'Russian', 'Traditional Chinese', 'Turkish', 'Ukrainian', 'French', 'Spanish - Spain']                              1\n",
              "['English', 'German', 'Spanish - Spain', 'Portuguese - Brazil']                                                                                                            1\n",
              "['English', 'French', 'German', 'Spanish - Spain', 'Traditional Chinese', 'Simplified Chinese', 'Japanese', 'Dutch', 'Portuguese', 'Russian', 'Swedish', 'Turkish']        1\n",
              "['English', 'French', 'German', 'Spanish - Spain', 'Spanish - Latin America', 'Ukrainian']                                                                                 1\n",
              "Name: Full audio languages, Length: 2082, dtype: int64"
            ]
          },
          "metadata": {},
          "execution_count": 29
        }
      ]
    },
    {
      "cell_type": "code",
      "source": [
        "# can drop\n",
        "games['DLC count'].value_counts()"
      ],
      "metadata": {
        "colab": {
          "base_uri": "https://localhost:8080/"
        },
        "id": "YfWGB3t8e2Lz",
        "outputId": "243ab7a8-b8d3-4bac-8542-2602ac62bf2f"
      },
      "execution_count": 30,
      "outputs": [
        {
          "output_type": "execute_result",
          "data": {
            "text/plain": [
              "0       67239\n",
              "1        7267\n",
              "2        1794\n",
              "3         685\n",
              "4         381\n",
              "        ...  \n",
              "87          1\n",
              "114         1\n",
              "149         1\n",
              "260         1\n",
              "1968        1\n",
              "Name: DLC count, Length: 94, dtype: int64"
            ]
          },
          "metadata": {},
          "execution_count": 30
        }
      ]
    },
    {
      "cell_type": "code",
      "execution_count": 31,
      "metadata": {
        "colab": {
          "base_uri": "https://localhost:8080/"
        },
        "id": "KuTQBOdA82l0",
        "outputId": "822d2d43-8102-46f3-eb68-691d378a6922"
      },
      "outputs": [
        {
          "output_type": "execute_result",
          "data": {
            "text/plain": [
              "0       39551\n",
              "10       1967\n",
              "12       1537\n",
              "20       1401\n",
              "15       1288\n",
              "        ...  \n",
              "1337        1\n",
              "219         1\n",
              "1043        1\n",
              "764         1\n",
              "412         1\n",
              "Name: Achievements, Length: 429, dtype: int64"
            ]
          },
          "metadata": {},
          "execution_count": 31
        }
      ],
      "source": [
        "#can drop? keep\n",
        "games['Achievements'].value_counts()"
      ]
    },
    {
      "cell_type": "code",
      "execution_count": 32,
      "metadata": {
        "colab": {
          "base_uri": "https://localhost:8080/"
        },
        "id": "e8ADIx3S82l1",
        "outputId": "25d3ac5f-574f-4383-aa91-fd26e7db7d4b"
      },
      "outputs": [
        {
          "output_type": "execute_result",
          "data": {
            "text/plain": [
              "0        65213\n",
              "116         66\n",
              "106         64\n",
              "101         60\n",
              "105         58\n",
              "         ...  \n",
              "41402        1\n",
              "6114         1\n",
              "3159         1\n",
              "81882        1\n",
              "14241        1\n",
              "Name: Recommendations, Length: 3991, dtype: int64"
            ]
          },
          "metadata": {},
          "execution_count": 32
        }
      ],
      "source": [
        "#can drop\n",
        "games['Recommendations'].value_counts()"
      ]
    },
    {
      "cell_type": "code",
      "execution_count": 33,
      "metadata": {
        "id": "dJV_1Izk82l1"
      },
      "outputs": [],
      "source": [
        "#dropping additional columns\n",
        "drop_me_too =['Header image','Full audio languages','Supported languages']"
      ]
    },
    {
      "cell_type": "code",
      "execution_count": 34,
      "metadata": {
        "id": "z1oBK5Ft82l1"
      },
      "outputs": [],
      "source": [
        "#dropping unneccessary columns part two\n",
        "games = games.drop(columns = drop_me_too)"
      ]
    },
    {
      "cell_type": "code",
      "source": [
        "games.head()"
      ],
      "metadata": {
        "colab": {
          "base_uri": "https://localhost:8080/",
          "height": 375
        },
        "id": "xfxL5Mvo-fsh",
        "outputId": "c0bbd5e3-9e34-4db2-a064-10b064561f86"
      },
      "execution_count": 35,
      "outputs": [
        {
          "output_type": "execute_result",
          "data": {
            "text/plain": [
              "     AppID                   Name  Release date Estimated owners  Peak CCU  \\\n",
              "0    20200       Galactic Bowling  Oct 21, 2008        0 - 20000         0   \n",
              "1   655370           Train Bandit  Oct 12, 2017        0 - 20000         0   \n",
              "2  1732930           Jolt Project  Nov 17, 2021        0 - 20000         0   \n",
              "3  1355720               Henosis™  Jul 23, 2020        0 - 20000         0   \n",
              "4  1139950  Two Weeks in Painland   Feb 3, 2020        0 - 20000         0   \n",
              "\n",
              "   Required age  Price  DLC count  Windows    Mac  ...  Recommendations  \\\n",
              "0             0  19.99          0     True  False  ...                0   \n",
              "1             0   0.99          0     True   True  ...                0   \n",
              "2             0   4.99          0     True  False  ...                0   \n",
              "3             0   5.99          0     True   True  ...                0   \n",
              "4             0   0.00          0     True   True  ...                0   \n",
              "\n",
              "   Average playtime forever  Average playtime two weeks  \\\n",
              "0                         0                           0   \n",
              "1                         0                           0   \n",
              "2                         0                           0   \n",
              "3                         0                           0   \n",
              "4                         0                           0   \n",
              "\n",
              "   Median playtime forever  Median playtime two weeks             Developers  \\\n",
              "0                        0                          0  Perpetual FX Creative   \n",
              "1                        0                          0           Rusty Moyher   \n",
              "2                        0                          0          Campião Games   \n",
              "3                        0                          0      Odd Critter Games   \n",
              "4                        0                          0          Unusual Games   \n",
              "\n",
              "              Publishers                                         Categories  \\\n",
              "0  Perpetual FX Creative  Single-player,Multi-player,Steam Achievements,...   \n",
              "1           Wild Rooster  Single-player,Steam Achievements,Full controll...   \n",
              "2          Campião Games                                      Single-player   \n",
              "3      Odd Critter Games              Single-player,Full controller support   \n",
              "4          Unusual Games                   Single-player,Steam Achievements   \n",
              "\n",
              "                            Genres  \\\n",
              "0              Casual,Indie,Sports   \n",
              "1                     Action,Indie   \n",
              "2  Action,Adventure,Indie,Strategy   \n",
              "3           Adventure,Casual,Indie   \n",
              "4                  Adventure,Indie   \n",
              "\n",
              "                                                Tags  \n",
              "0                        Indie,Casual,Sports,Bowling  \n",
              "1  Indie,Action,Pixel Graphics,2D,Retro,Arcade,Sc...  \n",
              "2                                                NaN  \n",
              "3  2D Platformer,Atmospheric,Surreal,Mystery,Puzz...  \n",
              "4  Indie,Adventure,Nudity,Violent,Sexual Content,...  \n",
              "\n",
              "[5 rows x 26 columns]"
            ],
            "text/html": [
              "\n",
              "  <div id=\"df-63d0a562-2c71-41e2-987a-8f577c0c2e39\" class=\"colab-df-container\">\n",
              "    <div>\n",
              "<style scoped>\n",
              "    .dataframe tbody tr th:only-of-type {\n",
              "        vertical-align: middle;\n",
              "    }\n",
              "\n",
              "    .dataframe tbody tr th {\n",
              "        vertical-align: top;\n",
              "    }\n",
              "\n",
              "    .dataframe thead th {\n",
              "        text-align: right;\n",
              "    }\n",
              "</style>\n",
              "<table border=\"1\" class=\"dataframe\">\n",
              "  <thead>\n",
              "    <tr style=\"text-align: right;\">\n",
              "      <th></th>\n",
              "      <th>AppID</th>\n",
              "      <th>Name</th>\n",
              "      <th>Release date</th>\n",
              "      <th>Estimated owners</th>\n",
              "      <th>Peak CCU</th>\n",
              "      <th>Required age</th>\n",
              "      <th>Price</th>\n",
              "      <th>DLC count</th>\n",
              "      <th>Windows</th>\n",
              "      <th>Mac</th>\n",
              "      <th>...</th>\n",
              "      <th>Recommendations</th>\n",
              "      <th>Average playtime forever</th>\n",
              "      <th>Average playtime two weeks</th>\n",
              "      <th>Median playtime forever</th>\n",
              "      <th>Median playtime two weeks</th>\n",
              "      <th>Developers</th>\n",
              "      <th>Publishers</th>\n",
              "      <th>Categories</th>\n",
              "      <th>Genres</th>\n",
              "      <th>Tags</th>\n",
              "    </tr>\n",
              "  </thead>\n",
              "  <tbody>\n",
              "    <tr>\n",
              "      <th>0</th>\n",
              "      <td>20200</td>\n",
              "      <td>Galactic Bowling</td>\n",
              "      <td>Oct 21, 2008</td>\n",
              "      <td>0 - 20000</td>\n",
              "      <td>0</td>\n",
              "      <td>0</td>\n",
              "      <td>19.99</td>\n",
              "      <td>0</td>\n",
              "      <td>True</td>\n",
              "      <td>False</td>\n",
              "      <td>...</td>\n",
              "      <td>0</td>\n",
              "      <td>0</td>\n",
              "      <td>0</td>\n",
              "      <td>0</td>\n",
              "      <td>0</td>\n",
              "      <td>Perpetual FX Creative</td>\n",
              "      <td>Perpetual FX Creative</td>\n",
              "      <td>Single-player,Multi-player,Steam Achievements,...</td>\n",
              "      <td>Casual,Indie,Sports</td>\n",
              "      <td>Indie,Casual,Sports,Bowling</td>\n",
              "    </tr>\n",
              "    <tr>\n",
              "      <th>1</th>\n",
              "      <td>655370</td>\n",
              "      <td>Train Bandit</td>\n",
              "      <td>Oct 12, 2017</td>\n",
              "      <td>0 - 20000</td>\n",
              "      <td>0</td>\n",
              "      <td>0</td>\n",
              "      <td>0.99</td>\n",
              "      <td>0</td>\n",
              "      <td>True</td>\n",
              "      <td>True</td>\n",
              "      <td>...</td>\n",
              "      <td>0</td>\n",
              "      <td>0</td>\n",
              "      <td>0</td>\n",
              "      <td>0</td>\n",
              "      <td>0</td>\n",
              "      <td>Rusty Moyher</td>\n",
              "      <td>Wild Rooster</td>\n",
              "      <td>Single-player,Steam Achievements,Full controll...</td>\n",
              "      <td>Action,Indie</td>\n",
              "      <td>Indie,Action,Pixel Graphics,2D,Retro,Arcade,Sc...</td>\n",
              "    </tr>\n",
              "    <tr>\n",
              "      <th>2</th>\n",
              "      <td>1732930</td>\n",
              "      <td>Jolt Project</td>\n",
              "      <td>Nov 17, 2021</td>\n",
              "      <td>0 - 20000</td>\n",
              "      <td>0</td>\n",
              "      <td>0</td>\n",
              "      <td>4.99</td>\n",
              "      <td>0</td>\n",
              "      <td>True</td>\n",
              "      <td>False</td>\n",
              "      <td>...</td>\n",
              "      <td>0</td>\n",
              "      <td>0</td>\n",
              "      <td>0</td>\n",
              "      <td>0</td>\n",
              "      <td>0</td>\n",
              "      <td>Campião Games</td>\n",
              "      <td>Campião Games</td>\n",
              "      <td>Single-player</td>\n",
              "      <td>Action,Adventure,Indie,Strategy</td>\n",
              "      <td>NaN</td>\n",
              "    </tr>\n",
              "    <tr>\n",
              "      <th>3</th>\n",
              "      <td>1355720</td>\n",
              "      <td>Henosis™</td>\n",
              "      <td>Jul 23, 2020</td>\n",
              "      <td>0 - 20000</td>\n",
              "      <td>0</td>\n",
              "      <td>0</td>\n",
              "      <td>5.99</td>\n",
              "      <td>0</td>\n",
              "      <td>True</td>\n",
              "      <td>True</td>\n",
              "      <td>...</td>\n",
              "      <td>0</td>\n",
              "      <td>0</td>\n",
              "      <td>0</td>\n",
              "      <td>0</td>\n",
              "      <td>0</td>\n",
              "      <td>Odd Critter Games</td>\n",
              "      <td>Odd Critter Games</td>\n",
              "      <td>Single-player,Full controller support</td>\n",
              "      <td>Adventure,Casual,Indie</td>\n",
              "      <td>2D Platformer,Atmospheric,Surreal,Mystery,Puzz...</td>\n",
              "    </tr>\n",
              "    <tr>\n",
              "      <th>4</th>\n",
              "      <td>1139950</td>\n",
              "      <td>Two Weeks in Painland</td>\n",
              "      <td>Feb 3, 2020</td>\n",
              "      <td>0 - 20000</td>\n",
              "      <td>0</td>\n",
              "      <td>0</td>\n",
              "      <td>0.00</td>\n",
              "      <td>0</td>\n",
              "      <td>True</td>\n",
              "      <td>True</td>\n",
              "      <td>...</td>\n",
              "      <td>0</td>\n",
              "      <td>0</td>\n",
              "      <td>0</td>\n",
              "      <td>0</td>\n",
              "      <td>0</td>\n",
              "      <td>Unusual Games</td>\n",
              "      <td>Unusual Games</td>\n",
              "      <td>Single-player,Steam Achievements</td>\n",
              "      <td>Adventure,Indie</td>\n",
              "      <td>Indie,Adventure,Nudity,Violent,Sexual Content,...</td>\n",
              "    </tr>\n",
              "  </tbody>\n",
              "</table>\n",
              "<p>5 rows × 26 columns</p>\n",
              "</div>\n",
              "    <div class=\"colab-df-buttons\">\n",
              "\n",
              "  <div class=\"colab-df-container\">\n",
              "    <button class=\"colab-df-convert\" onclick=\"convertToInteractive('df-63d0a562-2c71-41e2-987a-8f577c0c2e39')\"\n",
              "            title=\"Convert this dataframe to an interactive table.\"\n",
              "            style=\"display:none;\">\n",
              "\n",
              "  <svg xmlns=\"http://www.w3.org/2000/svg\" height=\"24px\" viewBox=\"0 -960 960 960\">\n",
              "    <path d=\"M120-120v-720h720v720H120Zm60-500h600v-160H180v160Zm220 220h160v-160H400v160Zm0 220h160v-160H400v160ZM180-400h160v-160H180v160Zm440 0h160v-160H620v160ZM180-180h160v-160H180v160Zm440 0h160v-160H620v160Z\"/>\n",
              "  </svg>\n",
              "    </button>\n",
              "\n",
              "  <style>\n",
              "    .colab-df-container {\n",
              "      display:flex;\n",
              "      gap: 12px;\n",
              "    }\n",
              "\n",
              "    .colab-df-convert {\n",
              "      background-color: #E8F0FE;\n",
              "      border: none;\n",
              "      border-radius: 50%;\n",
              "      cursor: pointer;\n",
              "      display: none;\n",
              "      fill: #1967D2;\n",
              "      height: 32px;\n",
              "      padding: 0 0 0 0;\n",
              "      width: 32px;\n",
              "    }\n",
              "\n",
              "    .colab-df-convert:hover {\n",
              "      background-color: #E2EBFA;\n",
              "      box-shadow: 0px 1px 2px rgba(60, 64, 67, 0.3), 0px 1px 3px 1px rgba(60, 64, 67, 0.15);\n",
              "      fill: #174EA6;\n",
              "    }\n",
              "\n",
              "    .colab-df-buttons div {\n",
              "      margin-bottom: 4px;\n",
              "    }\n",
              "\n",
              "    [theme=dark] .colab-df-convert {\n",
              "      background-color: #3B4455;\n",
              "      fill: #D2E3FC;\n",
              "    }\n",
              "\n",
              "    [theme=dark] .colab-df-convert:hover {\n",
              "      background-color: #434B5C;\n",
              "      box-shadow: 0px 1px 3px 1px rgba(0, 0, 0, 0.15);\n",
              "      filter: drop-shadow(0px 1px 2px rgba(0, 0, 0, 0.3));\n",
              "      fill: #FFFFFF;\n",
              "    }\n",
              "  </style>\n",
              "\n",
              "    <script>\n",
              "      const buttonEl =\n",
              "        document.querySelector('#df-63d0a562-2c71-41e2-987a-8f577c0c2e39 button.colab-df-convert');\n",
              "      buttonEl.style.display =\n",
              "        google.colab.kernel.accessAllowed ? 'block' : 'none';\n",
              "\n",
              "      async function convertToInteractive(key) {\n",
              "        const element = document.querySelector('#df-63d0a562-2c71-41e2-987a-8f577c0c2e39');\n",
              "        const dataTable =\n",
              "          await google.colab.kernel.invokeFunction('convertToInteractive',\n",
              "                                                    [key], {});\n",
              "        if (!dataTable) return;\n",
              "\n",
              "        const docLinkHtml = 'Like what you see? Visit the ' +\n",
              "          '<a target=\"_blank\" href=https://colab.research.google.com/notebooks/data_table.ipynb>data table notebook</a>'\n",
              "          + ' to learn more about interactive tables.';\n",
              "        element.innerHTML = '';\n",
              "        dataTable['output_type'] = 'display_data';\n",
              "        await google.colab.output.renderOutput(dataTable, element);\n",
              "        const docLink = document.createElement('div');\n",
              "        docLink.innerHTML = docLinkHtml;\n",
              "        element.appendChild(docLink);\n",
              "      }\n",
              "    </script>\n",
              "  </div>\n",
              "\n",
              "\n",
              "<div id=\"df-cdff9acc-43ec-4681-9f7c-2728be9bfb0f\">\n",
              "  <button class=\"colab-df-quickchart\" onclick=\"quickchart('df-cdff9acc-43ec-4681-9f7c-2728be9bfb0f')\"\n",
              "            title=\"Suggest charts\"\n",
              "            style=\"display:none;\">\n",
              "\n",
              "<svg xmlns=\"http://www.w3.org/2000/svg\" height=\"24px\"viewBox=\"0 0 24 24\"\n",
              "     width=\"24px\">\n",
              "    <g>\n",
              "        <path d=\"M19 3H5c-1.1 0-2 .9-2 2v14c0 1.1.9 2 2 2h14c1.1 0 2-.9 2-2V5c0-1.1-.9-2-2-2zM9 17H7v-7h2v7zm4 0h-2V7h2v10zm4 0h-2v-4h2v4z\"/>\n",
              "    </g>\n",
              "</svg>\n",
              "  </button>\n",
              "\n",
              "<style>\n",
              "  .colab-df-quickchart {\n",
              "      --bg-color: #E8F0FE;\n",
              "      --fill-color: #1967D2;\n",
              "      --hover-bg-color: #E2EBFA;\n",
              "      --hover-fill-color: #174EA6;\n",
              "      --disabled-fill-color: #AAA;\n",
              "      --disabled-bg-color: #DDD;\n",
              "  }\n",
              "\n",
              "  [theme=dark] .colab-df-quickchart {\n",
              "      --bg-color: #3B4455;\n",
              "      --fill-color: #D2E3FC;\n",
              "      --hover-bg-color: #434B5C;\n",
              "      --hover-fill-color: #FFFFFF;\n",
              "      --disabled-bg-color: #3B4455;\n",
              "      --disabled-fill-color: #666;\n",
              "  }\n",
              "\n",
              "  .colab-df-quickchart {\n",
              "    background-color: var(--bg-color);\n",
              "    border: none;\n",
              "    border-radius: 50%;\n",
              "    cursor: pointer;\n",
              "    display: none;\n",
              "    fill: var(--fill-color);\n",
              "    height: 32px;\n",
              "    padding: 0;\n",
              "    width: 32px;\n",
              "  }\n",
              "\n",
              "  .colab-df-quickchart:hover {\n",
              "    background-color: var(--hover-bg-color);\n",
              "    box-shadow: 0 1px 2px rgba(60, 64, 67, 0.3), 0 1px 3px 1px rgba(60, 64, 67, 0.15);\n",
              "    fill: var(--button-hover-fill-color);\n",
              "  }\n",
              "\n",
              "  .colab-df-quickchart-complete:disabled,\n",
              "  .colab-df-quickchart-complete:disabled:hover {\n",
              "    background-color: var(--disabled-bg-color);\n",
              "    fill: var(--disabled-fill-color);\n",
              "    box-shadow: none;\n",
              "  }\n",
              "\n",
              "  .colab-df-spinner {\n",
              "    border: 2px solid var(--fill-color);\n",
              "    border-color: transparent;\n",
              "    border-bottom-color: var(--fill-color);\n",
              "    animation:\n",
              "      spin 1s steps(1) infinite;\n",
              "  }\n",
              "\n",
              "  @keyframes spin {\n",
              "    0% {\n",
              "      border-color: transparent;\n",
              "      border-bottom-color: var(--fill-color);\n",
              "      border-left-color: var(--fill-color);\n",
              "    }\n",
              "    20% {\n",
              "      border-color: transparent;\n",
              "      border-left-color: var(--fill-color);\n",
              "      border-top-color: var(--fill-color);\n",
              "    }\n",
              "    30% {\n",
              "      border-color: transparent;\n",
              "      border-left-color: var(--fill-color);\n",
              "      border-top-color: var(--fill-color);\n",
              "      border-right-color: var(--fill-color);\n",
              "    }\n",
              "    40% {\n",
              "      border-color: transparent;\n",
              "      border-right-color: var(--fill-color);\n",
              "      border-top-color: var(--fill-color);\n",
              "    }\n",
              "    60% {\n",
              "      border-color: transparent;\n",
              "      border-right-color: var(--fill-color);\n",
              "    }\n",
              "    80% {\n",
              "      border-color: transparent;\n",
              "      border-right-color: var(--fill-color);\n",
              "      border-bottom-color: var(--fill-color);\n",
              "    }\n",
              "    90% {\n",
              "      border-color: transparent;\n",
              "      border-bottom-color: var(--fill-color);\n",
              "    }\n",
              "  }\n",
              "</style>\n",
              "\n",
              "  <script>\n",
              "    async function quickchart(key) {\n",
              "      const quickchartButtonEl =\n",
              "        document.querySelector('#' + key + ' button');\n",
              "      quickchartButtonEl.disabled = true;  // To prevent multiple clicks.\n",
              "      quickchartButtonEl.classList.add('colab-df-spinner');\n",
              "      try {\n",
              "        const charts = await google.colab.kernel.invokeFunction(\n",
              "            'suggestCharts', [key], {});\n",
              "      } catch (error) {\n",
              "        console.error('Error during call to suggestCharts:', error);\n",
              "      }\n",
              "      quickchartButtonEl.classList.remove('colab-df-spinner');\n",
              "      quickchartButtonEl.classList.add('colab-df-quickchart-complete');\n",
              "    }\n",
              "    (() => {\n",
              "      let quickchartButtonEl =\n",
              "        document.querySelector('#df-cdff9acc-43ec-4681-9f7c-2728be9bfb0f button');\n",
              "      quickchartButtonEl.style.display =\n",
              "        google.colab.kernel.accessAllowed ? 'block' : 'none';\n",
              "    })();\n",
              "  </script>\n",
              "</div>\n",
              "    </div>\n",
              "  </div>\n"
            ]
          },
          "metadata": {},
          "execution_count": 35
        }
      ]
    },
    {
      "cell_type": "code",
      "source": [
        "games.shape"
      ],
      "metadata": {
        "colab": {
          "base_uri": "https://localhost:8080/"
        },
        "id": "U11G7ciUWHJs",
        "outputId": "4208dc23-2e18-4968-ee6b-0faa85272712"
      },
      "execution_count": 36,
      "outputs": [
        {
          "output_type": "execute_result",
          "data": {
            "text/plain": [
              "(78581, 26)"
            ]
          },
          "metadata": {},
          "execution_count": 36
        }
      ]
    },
    {
      "cell_type": "code",
      "source": [
        "#getting rid of nulls\n",
        "games.dropna(inplace = True)"
      ],
      "metadata": {
        "id": "gmT9UHsPWu4i"
      },
      "execution_count": 85,
      "outputs": []
    },
    {
      "cell_type": "code",
      "source": [
        "games.shape"
      ],
      "metadata": {
        "colab": {
          "base_uri": "https://localhost:8080/"
        },
        "id": "xmM0sQtkfhqK",
        "outputId": "432070bf-700f-4692-963a-cc8e00a71521"
      },
      "execution_count": 86,
      "outputs": [
        {
          "output_type": "execute_result",
          "data": {
            "text/plain": [
              "(59649, 26)"
            ]
          },
          "metadata": {},
          "execution_count": 86
        }
      ]
    },
    {
      "cell_type": "code",
      "execution_count": 87,
      "metadata": {
        "colab": {
          "base_uri": "https://localhost:8080/"
        },
        "id": "Au4wkjLc82l8",
        "outputId": "2ea4b185-adc6-46d0-dc1c-b8cfbc72004b"
      },
      "outputs": [
        {
          "output_type": "stream",
          "name": "stdout",
          "text": [
            "<class 'pandas.core.frame.DataFrame'>\n",
            "Int64Index: 59649 entries, 0 to 78580\n",
            "Data columns (total 26 columns):\n",
            " #   Column                      Non-Null Count  Dtype  \n",
            "---  ------                      --------------  -----  \n",
            " 0   AppID                       59649 non-null  int64  \n",
            " 1   Name                        59649 non-null  object \n",
            " 2   Release date                59649 non-null  object \n",
            " 3   Estimated owners            59649 non-null  object \n",
            " 4   Peak CCU                    59649 non-null  int64  \n",
            " 5   Required age                59649 non-null  int64  \n",
            " 6   Price                       59649 non-null  float64\n",
            " 7   DLC count                   59649 non-null  int64  \n",
            " 8   Windows                     59649 non-null  bool   \n",
            " 9   Mac                         59649 non-null  bool   \n",
            " 10  Linux                       59649 non-null  bool   \n",
            " 11  Metacritic score            59649 non-null  int64  \n",
            " 12  User score                  59649 non-null  int64  \n",
            " 13  Positive                    59649 non-null  int64  \n",
            " 14  Negative                    59649 non-null  int64  \n",
            " 15  Achievements                59649 non-null  int64  \n",
            " 16  Recommendations             59649 non-null  int64  \n",
            " 17  Average playtime forever    59649 non-null  int64  \n",
            " 18  Average playtime two weeks  59649 non-null  int64  \n",
            " 19  Median playtime forever     59649 non-null  int64  \n",
            " 20  Median playtime two weeks   59649 non-null  int64  \n",
            " 21  Developers                  59649 non-null  object \n",
            " 22  Publishers                  59649 non-null  object \n",
            " 23  Categories                  59649 non-null  object \n",
            " 24  Genres                      59649 non-null  object \n",
            " 25  Tags                        59649 non-null  object \n",
            "dtypes: bool(3), float64(1), int64(14), object(8)\n",
            "memory usage: 13.1+ MB\n"
          ]
        }
      ],
      "source": [
        "games.info()"
      ]
    },
    {
      "cell_type": "markdown",
      "source": [
        "# Dealing with genres"
      ],
      "metadata": {
        "id": "c8dqSQSTWxAG"
      }
    },
    {
      "cell_type": "code",
      "source": [
        "games['Tags'].head()"
      ],
      "metadata": {
        "colab": {
          "base_uri": "https://localhost:8080/"
        },
        "id": "luyrEt3CTjK5",
        "outputId": "3e47d825-147a-47b9-b679-a1cb6a3eaadd"
      },
      "execution_count": 88,
      "outputs": [
        {
          "output_type": "execute_result",
          "data": {
            "text/plain": [
              "0                          Indie,Casual,Sports,Bowling\n",
              "1    Indie,Action,Pixel Graphics,2D,Retro,Arcade,Sc...\n",
              "3    2D Platformer,Atmospheric,Surreal,Mystery,Puzz...\n",
              "4    Indie,Adventure,Nudity,Violent,Sexual Content,...\n",
              "5    Turn-Based Combat,Massively Multiplayer,Multip...\n",
              "Name: Tags, dtype: object"
            ]
          },
          "metadata": {},
          "execution_count": 88
        }
      ]
    },
    {
      "cell_type": "code",
      "source": [
        "#check for nulls\n",
        "games['Genres'].isnull().sum()"
      ],
      "metadata": {
        "colab": {
          "base_uri": "https://localhost:8080/"
        },
        "id": "UcYOoPb2sbuF",
        "outputId": "ad7c4da8-1278-4ea4-d2d0-1b4b239525e9"
      },
      "execution_count": 89,
      "outputs": [
        {
          "output_type": "execute_result",
          "data": {
            "text/plain": [
              "0"
            ]
          },
          "metadata": {},
          "execution_count": 89
        }
      ]
    },
    {
      "cell_type": "code",
      "source": [
        "games['Categories'].nunique()"
      ],
      "metadata": {
        "colab": {
          "base_uri": "https://localhost:8080/"
        },
        "id": "Jd7aJuXNnbMX",
        "outputId": "b7eddfca-8a0b-4354-dfe9-55dd6f4d8e3f"
      },
      "execution_count": 50,
      "outputs": [
        {
          "output_type": "execute_result",
          "data": {
            "text/plain": [
              "5171"
            ]
          },
          "metadata": {},
          "execution_count": 50
        }
      ]
    },
    {
      "cell_type": "code",
      "source": [
        "games['Categories'].value_counts().head(500)"
      ],
      "metadata": {
        "colab": {
          "base_uri": "https://localhost:8080/"
        },
        "id": "su_1XJPemNPK",
        "outputId": "dbd5e0b1-d240-48ea-e033-ebe637f325bb"
      },
      "execution_count": 90,
      "outputs": [
        {
          "output_type": "execute_result",
          "data": {
            "text/plain": [
              "Single-player                                                                                                                             15706\n",
              "Single-player,Steam Achievements                                                                                                           6085\n",
              "Single-player,Steam Achievements,Steam Cloud                                                                                               2325\n",
              "Single-player,Partial Controller Support                                                                                                   2010\n",
              "Single-player,Full controller support                                                                                                      1672\n",
              "                                                                                                                                          ...  \n",
              "Single-player,Steam Achievements,Full controller support,Steam Trading Cards,Steam Cloud,Remote Play on Phone,Remote Play on Tablet           7\n",
              "Single-player,Multi-player,PvP,Shared/Split Screen PvP,Co-op,Shared/Split Screen Co-op,Partial Controller Support,Remote Play Together        7\n",
              "Single-player,Steam Achievements,In-App Purchases,Partial Controller Support,Steam Cloud                                                      7\n",
              "Single-player,Multi-player,PvP,Shared/Split Screen PvP,Shared/Split Screen,Steam Achievements,Partial Controller Support                      7\n",
              "Single-player,Multi-player,Co-op,Cross-Platform Multiplayer                                                                                   7\n",
              "Name: Categories, Length: 500, dtype: int64"
            ]
          },
          "metadata": {},
          "execution_count": 90
        }
      ]
    },
    {
      "cell_type": "code",
      "source": [
        "#spliting tool --not needed?\n",
        "def string_split(column):\n",
        "  list_genre = column.split(\",\")\n",
        "  return list_genre"
      ],
      "metadata": {
        "id": "pB-v1flyqKuW"
      },
      "execution_count": 52,
      "outputs": []
    },
    {
      "cell_type": "markdown",
      "source": [
        "# code to break down Genres, Tags and Categories"
      ],
      "metadata": {
        "id": "VBKNnVtp-1b4"
      }
    },
    {
      "cell_type": "code",
      "source": [
        "genre_count = {}\n",
        "#check for nullss\n",
        "for genre in games['Genres']:\n",
        "  if isinstance(genre, str):\n",
        "    genres = genre.split(\",\")\n",
        "    for genre in genres:\n",
        "      genre_count[genre] =genre_count.get(genre, 0) + 1"
      ],
      "metadata": {
        "id": "2X4QuAOBpPl8"
      },
      "execution_count": 53,
      "outputs": []
    },
    {
      "cell_type": "code",
      "source": [
        "genre_count"
      ],
      "metadata": {
        "colab": {
          "base_uri": "https://localhost:8080/"
        },
        "id": "mrSRnxCDyspC",
        "outputId": "ff767b21-0480-4163-962b-4dd709a4bb52"
      },
      "execution_count": 54,
      "outputs": [
        {
          "output_type": "execute_result",
          "data": {
            "text/plain": [
              "{'Casual': 23861,\n",
              " 'Indie': 43155,\n",
              " 'Sports': 2861,\n",
              " 'Action': 25969,\n",
              " 'Adventure': 23660,\n",
              " 'Free to Play': 3455,\n",
              " 'Massively Multiplayer': 1533,\n",
              " 'RPG': 10605,\n",
              " 'Strategy': 11927,\n",
              " 'Simulation': 11856,\n",
              " 'Early Access': 7148,\n",
              " 'Racing': 2316,\n",
              " 'Sexual Content': 105,\n",
              " 'Nudity': 116,\n",
              " 'Violent': 512,\n",
              " 'Gore': 304,\n",
              " 'Animation & Modeling': 124,\n",
              " 'Design & Illustration': 145,\n",
              " 'Utilities': 242,\n",
              " 'Game Development': 59,\n",
              " 'Web Publishing': 38,\n",
              " 'Audio Production': 59,\n",
              " 'Video Production': 67,\n",
              " 'Education': 96,\n",
              " 'Software Training': 52,\n",
              " 'Accounting': 7,\n",
              " 'Photo Editing': 27,\n",
              " 'Movie': 2,\n",
              " 'Documentary': 1,\n",
              " 'Episodic': 1,\n",
              " 'Short': 1,\n",
              " 'Tutorial': 1,\n",
              " '360 Video': 1}"
            ]
          },
          "metadata": {},
          "execution_count": 54
        }
      ]
    },
    {
      "source": [
        "## Looking at Genre I'm going to remove everything that doesn't specifically describe a genre.\n",
        "\n",
        "\n",
        "### removing the following:\n",
        "* 'Sexual Content': 105,\n",
        "* 'Nudity': 116,\n",
        "* 'Violent': 512,\n",
        "* 'Gore': 304,\n",
        "* 'Animation & Modeling': 125,\n",
        "* 'Design & Illustration': 146,\n",
        "* 'Utilities': 247,\n",
        "* 'Game Development': 62,\n",
        "* 'Web Publishing': 38,\n",
        "* 'Audio Production': 60,\n",
        "* 'Video Production': 68,\n",
        "* 'Education': 97,\n",
        "* 'Software Training': 52,\n",
        "* 'Accounting': 7,\n",
        "* 'Photo Editing': 29,\n",
        "* 'Movie': 2,\n",
        "* 'Documentary': 1,\n",
        "* 'Episodic': 1,\n",
        "* 'Short': 1,\n",
        "* 'Tutorial': 1,\n",
        "* '360 Video': 1}"
      ],
      "cell_type": "markdown",
      "metadata": {
        "id": "Lue4gd6p82l_"
      }
    },
    {
      "source": [
        "# Expirement to check for values in genre"
      ],
      "cell_type": "markdown",
      "metadata": {
        "id": "bWLjkYWR82l_"
      }
    },
    {
      "cell_type": "code",
      "source": [
        "values_to_check = ['360 Video', 'Tutorials']\n"
      ],
      "metadata": {
        "id": "RRZkclCtuosw"
      },
      "execution_count": 56,
      "outputs": []
    },
    {
      "cell_type": "code",
      "execution_count": 57,
      "metadata": {
        "id": "9g-kmsbF82mA"
      },
      "outputs": [],
      "source": [
        "values_to_remove = ['Sexual Content', 'Nudity','Violent','Gore', 'Animation & Modeling','Design & Illustration' , 'Utilities', 'Game Development', 'Web Publishing', 'Audio Production', 'Video Production', 'Education', 'Software Training', 'Accounting', 'Photo Editing', 'Movie', 'Documentary', 'Episodic', 'Short', 'Tutorial', '360 Video']"
      ]
    },
    {
      "cell_type": "code",
      "source": [
        "#code to remove genres that I don't need\n",
        "values_to_check = ['360 Video', 'Tutorials']\n",
        "\n",
        "values_to_remove = ['Sexual Content', 'Nudity','Violent','Gore', 'Animation & Modeling','Design & Illustration' , 'Utilities', 'Game Development', 'Web Publishing', 'Audio Production', 'Video Production', 'Education', 'Software Training', 'Accounting', 'Photo Editing', 'Movie', 'Documentary', 'Episodic', 'Short', 'Tutorial', '360 Video']"
      ],
      "metadata": {
        "id": "VoNobULz18B_"
      },
      "execution_count": 64,
      "outputs": []
    },
    {
      "cell_type": "code",
      "source": [
        "#code to check for values in games_test3\n",
        "games['Remove'] = games['Genres'].apply(lambda x: any([k in x for k in values_to_remove]))"
      ],
      "metadata": {
        "id": "nmCyDjCivCj2"
      },
      "execution_count": 91,
      "outputs": []
    },
    {
      "cell_type": "code",
      "source": [
        "games.head()"
      ],
      "metadata": {
        "colab": {
          "base_uri": "https://localhost:8080/",
          "height": 357
        },
        "id": "ZrCcFvl-_ok3",
        "outputId": "6b3f65e2-7b15-413f-e50c-04c7e0691ea9"
      },
      "execution_count": 93,
      "outputs": [
        {
          "output_type": "execute_result",
          "data": {
            "text/plain": [
              "     AppID                   Name  Release date Estimated owners  Peak CCU  \\\n",
              "0    20200       Galactic Bowling  Oct 21, 2008        0 - 20000         0   \n",
              "1   655370           Train Bandit  Oct 12, 2017        0 - 20000         0   \n",
              "3  1355720               Henosis™  Jul 23, 2020        0 - 20000         0   \n",
              "4  1139950  Two Weeks in Painland   Feb 3, 2020        0 - 20000         0   \n",
              "5  1469160         Wartune Reborn  Feb 26, 2021   50000 - 100000        68   \n",
              "\n",
              "   Required age  Price  DLC count  Windows    Mac  ...  \\\n",
              "0             0  19.99          0     True  False  ...   \n",
              "1             0   0.99          0     True   True  ...   \n",
              "3             0   5.99          0     True   True  ...   \n",
              "4             0   0.00          0     True   True  ...   \n",
              "5             0   0.00          0     True  False  ...   \n",
              "\n",
              "   Average playtime forever  Average playtime two weeks  \\\n",
              "0                         0                           0   \n",
              "1                         0                           0   \n",
              "3                         0                           0   \n",
              "4                         0                           0   \n",
              "5                         0                           0   \n",
              "\n",
              "   Median playtime forever  Median playtime two weeks             Developers  \\\n",
              "0                        0                          0  Perpetual FX Creative   \n",
              "1                        0                          0           Rusty Moyher   \n",
              "3                        0                          0      Odd Critter Games   \n",
              "4                        0                          0          Unusual Games   \n",
              "5                        0                          0                  7Road   \n",
              "\n",
              "              Publishers                                         Categories  \\\n",
              "0  Perpetual FX Creative  Single-player,Multi-player,Steam Achievements,...   \n",
              "1           Wild Rooster  Single-player,Steam Achievements,Full controll...   \n",
              "3      Odd Critter Games              Single-player,Full controller support   \n",
              "4          Unusual Games                   Single-player,Steam Achievements   \n",
              "5                  7Road  Single-player,Multi-player,MMO,PvP,Online PvP,...   \n",
              "\n",
              "                                              Genres  \\\n",
              "0                                Casual,Indie,Sports   \n",
              "1                                       Action,Indie   \n",
              "3                             Adventure,Casual,Indie   \n",
              "4                                    Adventure,Indie   \n",
              "5  Adventure,Casual,Free to Play,Massively Multip...   \n",
              "\n",
              "                                                Tags  Remove  \n",
              "0                        Indie,Casual,Sports,Bowling   False  \n",
              "1  Indie,Action,Pixel Graphics,2D,Retro,Arcade,Sc...   False  \n",
              "3  2D Platformer,Atmospheric,Surreal,Mystery,Puzz...   False  \n",
              "4  Indie,Adventure,Nudity,Violent,Sexual Content,...   False  \n",
              "5  Turn-Based Combat,Massively Multiplayer,Multip...   False  \n",
              "\n",
              "[5 rows x 27 columns]"
            ],
            "text/html": [
              "\n",
              "  <div id=\"df-ee4f07bd-8e49-45c0-afe1-7d0cc5f2c4d2\" class=\"colab-df-container\">\n",
              "    <div>\n",
              "<style scoped>\n",
              "    .dataframe tbody tr th:only-of-type {\n",
              "        vertical-align: middle;\n",
              "    }\n",
              "\n",
              "    .dataframe tbody tr th {\n",
              "        vertical-align: top;\n",
              "    }\n",
              "\n",
              "    .dataframe thead th {\n",
              "        text-align: right;\n",
              "    }\n",
              "</style>\n",
              "<table border=\"1\" class=\"dataframe\">\n",
              "  <thead>\n",
              "    <tr style=\"text-align: right;\">\n",
              "      <th></th>\n",
              "      <th>AppID</th>\n",
              "      <th>Name</th>\n",
              "      <th>Release date</th>\n",
              "      <th>Estimated owners</th>\n",
              "      <th>Peak CCU</th>\n",
              "      <th>Required age</th>\n",
              "      <th>Price</th>\n",
              "      <th>DLC count</th>\n",
              "      <th>Windows</th>\n",
              "      <th>Mac</th>\n",
              "      <th>...</th>\n",
              "      <th>Average playtime forever</th>\n",
              "      <th>Average playtime two weeks</th>\n",
              "      <th>Median playtime forever</th>\n",
              "      <th>Median playtime two weeks</th>\n",
              "      <th>Developers</th>\n",
              "      <th>Publishers</th>\n",
              "      <th>Categories</th>\n",
              "      <th>Genres</th>\n",
              "      <th>Tags</th>\n",
              "      <th>Remove</th>\n",
              "    </tr>\n",
              "  </thead>\n",
              "  <tbody>\n",
              "    <tr>\n",
              "      <th>0</th>\n",
              "      <td>20200</td>\n",
              "      <td>Galactic Bowling</td>\n",
              "      <td>Oct 21, 2008</td>\n",
              "      <td>0 - 20000</td>\n",
              "      <td>0</td>\n",
              "      <td>0</td>\n",
              "      <td>19.99</td>\n",
              "      <td>0</td>\n",
              "      <td>True</td>\n",
              "      <td>False</td>\n",
              "      <td>...</td>\n",
              "      <td>0</td>\n",
              "      <td>0</td>\n",
              "      <td>0</td>\n",
              "      <td>0</td>\n",
              "      <td>Perpetual FX Creative</td>\n",
              "      <td>Perpetual FX Creative</td>\n",
              "      <td>Single-player,Multi-player,Steam Achievements,...</td>\n",
              "      <td>Casual,Indie,Sports</td>\n",
              "      <td>Indie,Casual,Sports,Bowling</td>\n",
              "      <td>False</td>\n",
              "    </tr>\n",
              "    <tr>\n",
              "      <th>1</th>\n",
              "      <td>655370</td>\n",
              "      <td>Train Bandit</td>\n",
              "      <td>Oct 12, 2017</td>\n",
              "      <td>0 - 20000</td>\n",
              "      <td>0</td>\n",
              "      <td>0</td>\n",
              "      <td>0.99</td>\n",
              "      <td>0</td>\n",
              "      <td>True</td>\n",
              "      <td>True</td>\n",
              "      <td>...</td>\n",
              "      <td>0</td>\n",
              "      <td>0</td>\n",
              "      <td>0</td>\n",
              "      <td>0</td>\n",
              "      <td>Rusty Moyher</td>\n",
              "      <td>Wild Rooster</td>\n",
              "      <td>Single-player,Steam Achievements,Full controll...</td>\n",
              "      <td>Action,Indie</td>\n",
              "      <td>Indie,Action,Pixel Graphics,2D,Retro,Arcade,Sc...</td>\n",
              "      <td>False</td>\n",
              "    </tr>\n",
              "    <tr>\n",
              "      <th>3</th>\n",
              "      <td>1355720</td>\n",
              "      <td>Henosis™</td>\n",
              "      <td>Jul 23, 2020</td>\n",
              "      <td>0 - 20000</td>\n",
              "      <td>0</td>\n",
              "      <td>0</td>\n",
              "      <td>5.99</td>\n",
              "      <td>0</td>\n",
              "      <td>True</td>\n",
              "      <td>True</td>\n",
              "      <td>...</td>\n",
              "      <td>0</td>\n",
              "      <td>0</td>\n",
              "      <td>0</td>\n",
              "      <td>0</td>\n",
              "      <td>Odd Critter Games</td>\n",
              "      <td>Odd Critter Games</td>\n",
              "      <td>Single-player,Full controller support</td>\n",
              "      <td>Adventure,Casual,Indie</td>\n",
              "      <td>2D Platformer,Atmospheric,Surreal,Mystery,Puzz...</td>\n",
              "      <td>False</td>\n",
              "    </tr>\n",
              "    <tr>\n",
              "      <th>4</th>\n",
              "      <td>1139950</td>\n",
              "      <td>Two Weeks in Painland</td>\n",
              "      <td>Feb 3, 2020</td>\n",
              "      <td>0 - 20000</td>\n",
              "      <td>0</td>\n",
              "      <td>0</td>\n",
              "      <td>0.00</td>\n",
              "      <td>0</td>\n",
              "      <td>True</td>\n",
              "      <td>True</td>\n",
              "      <td>...</td>\n",
              "      <td>0</td>\n",
              "      <td>0</td>\n",
              "      <td>0</td>\n",
              "      <td>0</td>\n",
              "      <td>Unusual Games</td>\n",
              "      <td>Unusual Games</td>\n",
              "      <td>Single-player,Steam Achievements</td>\n",
              "      <td>Adventure,Indie</td>\n",
              "      <td>Indie,Adventure,Nudity,Violent,Sexual Content,...</td>\n",
              "      <td>False</td>\n",
              "    </tr>\n",
              "    <tr>\n",
              "      <th>5</th>\n",
              "      <td>1469160</td>\n",
              "      <td>Wartune Reborn</td>\n",
              "      <td>Feb 26, 2021</td>\n",
              "      <td>50000 - 100000</td>\n",
              "      <td>68</td>\n",
              "      <td>0</td>\n",
              "      <td>0.00</td>\n",
              "      <td>0</td>\n",
              "      <td>True</td>\n",
              "      <td>False</td>\n",
              "      <td>...</td>\n",
              "      <td>0</td>\n",
              "      <td>0</td>\n",
              "      <td>0</td>\n",
              "      <td>0</td>\n",
              "      <td>7Road</td>\n",
              "      <td>7Road</td>\n",
              "      <td>Single-player,Multi-player,MMO,PvP,Online PvP,...</td>\n",
              "      <td>Adventure,Casual,Free to Play,Massively Multip...</td>\n",
              "      <td>Turn-Based Combat,Massively Multiplayer,Multip...</td>\n",
              "      <td>False</td>\n",
              "    </tr>\n",
              "  </tbody>\n",
              "</table>\n",
              "<p>5 rows × 27 columns</p>\n",
              "</div>\n",
              "    <div class=\"colab-df-buttons\">\n",
              "\n",
              "  <div class=\"colab-df-container\">\n",
              "    <button class=\"colab-df-convert\" onclick=\"convertToInteractive('df-ee4f07bd-8e49-45c0-afe1-7d0cc5f2c4d2')\"\n",
              "            title=\"Convert this dataframe to an interactive table.\"\n",
              "            style=\"display:none;\">\n",
              "\n",
              "  <svg xmlns=\"http://www.w3.org/2000/svg\" height=\"24px\" viewBox=\"0 -960 960 960\">\n",
              "    <path d=\"M120-120v-720h720v720H120Zm60-500h600v-160H180v160Zm220 220h160v-160H400v160Zm0 220h160v-160H400v160ZM180-400h160v-160H180v160Zm440 0h160v-160H620v160ZM180-180h160v-160H180v160Zm440 0h160v-160H620v160Z\"/>\n",
              "  </svg>\n",
              "    </button>\n",
              "\n",
              "  <style>\n",
              "    .colab-df-container {\n",
              "      display:flex;\n",
              "      gap: 12px;\n",
              "    }\n",
              "\n",
              "    .colab-df-convert {\n",
              "      background-color: #E8F0FE;\n",
              "      border: none;\n",
              "      border-radius: 50%;\n",
              "      cursor: pointer;\n",
              "      display: none;\n",
              "      fill: #1967D2;\n",
              "      height: 32px;\n",
              "      padding: 0 0 0 0;\n",
              "      width: 32px;\n",
              "    }\n",
              "\n",
              "    .colab-df-convert:hover {\n",
              "      background-color: #E2EBFA;\n",
              "      box-shadow: 0px 1px 2px rgba(60, 64, 67, 0.3), 0px 1px 3px 1px rgba(60, 64, 67, 0.15);\n",
              "      fill: #174EA6;\n",
              "    }\n",
              "\n",
              "    .colab-df-buttons div {\n",
              "      margin-bottom: 4px;\n",
              "    }\n",
              "\n",
              "    [theme=dark] .colab-df-convert {\n",
              "      background-color: #3B4455;\n",
              "      fill: #D2E3FC;\n",
              "    }\n",
              "\n",
              "    [theme=dark] .colab-df-convert:hover {\n",
              "      background-color: #434B5C;\n",
              "      box-shadow: 0px 1px 3px 1px rgba(0, 0, 0, 0.15);\n",
              "      filter: drop-shadow(0px 1px 2px rgba(0, 0, 0, 0.3));\n",
              "      fill: #FFFFFF;\n",
              "    }\n",
              "  </style>\n",
              "\n",
              "    <script>\n",
              "      const buttonEl =\n",
              "        document.querySelector('#df-ee4f07bd-8e49-45c0-afe1-7d0cc5f2c4d2 button.colab-df-convert');\n",
              "      buttonEl.style.display =\n",
              "        google.colab.kernel.accessAllowed ? 'block' : 'none';\n",
              "\n",
              "      async function convertToInteractive(key) {\n",
              "        const element = document.querySelector('#df-ee4f07bd-8e49-45c0-afe1-7d0cc5f2c4d2');\n",
              "        const dataTable =\n",
              "          await google.colab.kernel.invokeFunction('convertToInteractive',\n",
              "                                                    [key], {});\n",
              "        if (!dataTable) return;\n",
              "\n",
              "        const docLinkHtml = 'Like what you see? Visit the ' +\n",
              "          '<a target=\"_blank\" href=https://colab.research.google.com/notebooks/data_table.ipynb>data table notebook</a>'\n",
              "          + ' to learn more about interactive tables.';\n",
              "        element.innerHTML = '';\n",
              "        dataTable['output_type'] = 'display_data';\n",
              "        await google.colab.output.renderOutput(dataTable, element);\n",
              "        const docLink = document.createElement('div');\n",
              "        docLink.innerHTML = docLinkHtml;\n",
              "        element.appendChild(docLink);\n",
              "      }\n",
              "    </script>\n",
              "  </div>\n",
              "\n",
              "\n",
              "<div id=\"df-9b425dbf-22c9-4451-93df-3daca1c8a7b3\">\n",
              "  <button class=\"colab-df-quickchart\" onclick=\"quickchart('df-9b425dbf-22c9-4451-93df-3daca1c8a7b3')\"\n",
              "            title=\"Suggest charts\"\n",
              "            style=\"display:none;\">\n",
              "\n",
              "<svg xmlns=\"http://www.w3.org/2000/svg\" height=\"24px\"viewBox=\"0 0 24 24\"\n",
              "     width=\"24px\">\n",
              "    <g>\n",
              "        <path d=\"M19 3H5c-1.1 0-2 .9-2 2v14c0 1.1.9 2 2 2h14c1.1 0 2-.9 2-2V5c0-1.1-.9-2-2-2zM9 17H7v-7h2v7zm4 0h-2V7h2v10zm4 0h-2v-4h2v4z\"/>\n",
              "    </g>\n",
              "</svg>\n",
              "  </button>\n",
              "\n",
              "<style>\n",
              "  .colab-df-quickchart {\n",
              "      --bg-color: #E8F0FE;\n",
              "      --fill-color: #1967D2;\n",
              "      --hover-bg-color: #E2EBFA;\n",
              "      --hover-fill-color: #174EA6;\n",
              "      --disabled-fill-color: #AAA;\n",
              "      --disabled-bg-color: #DDD;\n",
              "  }\n",
              "\n",
              "  [theme=dark] .colab-df-quickchart {\n",
              "      --bg-color: #3B4455;\n",
              "      --fill-color: #D2E3FC;\n",
              "      --hover-bg-color: #434B5C;\n",
              "      --hover-fill-color: #FFFFFF;\n",
              "      --disabled-bg-color: #3B4455;\n",
              "      --disabled-fill-color: #666;\n",
              "  }\n",
              "\n",
              "  .colab-df-quickchart {\n",
              "    background-color: var(--bg-color);\n",
              "    border: none;\n",
              "    border-radius: 50%;\n",
              "    cursor: pointer;\n",
              "    display: none;\n",
              "    fill: var(--fill-color);\n",
              "    height: 32px;\n",
              "    padding: 0;\n",
              "    width: 32px;\n",
              "  }\n",
              "\n",
              "  .colab-df-quickchart:hover {\n",
              "    background-color: var(--hover-bg-color);\n",
              "    box-shadow: 0 1px 2px rgba(60, 64, 67, 0.3), 0 1px 3px 1px rgba(60, 64, 67, 0.15);\n",
              "    fill: var(--button-hover-fill-color);\n",
              "  }\n",
              "\n",
              "  .colab-df-quickchart-complete:disabled,\n",
              "  .colab-df-quickchart-complete:disabled:hover {\n",
              "    background-color: var(--disabled-bg-color);\n",
              "    fill: var(--disabled-fill-color);\n",
              "    box-shadow: none;\n",
              "  }\n",
              "\n",
              "  .colab-df-spinner {\n",
              "    border: 2px solid var(--fill-color);\n",
              "    border-color: transparent;\n",
              "    border-bottom-color: var(--fill-color);\n",
              "    animation:\n",
              "      spin 1s steps(1) infinite;\n",
              "  }\n",
              "\n",
              "  @keyframes spin {\n",
              "    0% {\n",
              "      border-color: transparent;\n",
              "      border-bottom-color: var(--fill-color);\n",
              "      border-left-color: var(--fill-color);\n",
              "    }\n",
              "    20% {\n",
              "      border-color: transparent;\n",
              "      border-left-color: var(--fill-color);\n",
              "      border-top-color: var(--fill-color);\n",
              "    }\n",
              "    30% {\n",
              "      border-color: transparent;\n",
              "      border-left-color: var(--fill-color);\n",
              "      border-top-color: var(--fill-color);\n",
              "      border-right-color: var(--fill-color);\n",
              "    }\n",
              "    40% {\n",
              "      border-color: transparent;\n",
              "      border-right-color: var(--fill-color);\n",
              "      border-top-color: var(--fill-color);\n",
              "    }\n",
              "    60% {\n",
              "      border-color: transparent;\n",
              "      border-right-color: var(--fill-color);\n",
              "    }\n",
              "    80% {\n",
              "      border-color: transparent;\n",
              "      border-right-color: var(--fill-color);\n",
              "      border-bottom-color: var(--fill-color);\n",
              "    }\n",
              "    90% {\n",
              "      border-color: transparent;\n",
              "      border-bottom-color: var(--fill-color);\n",
              "    }\n",
              "  }\n",
              "</style>\n",
              "\n",
              "  <script>\n",
              "    async function quickchart(key) {\n",
              "      const quickchartButtonEl =\n",
              "        document.querySelector('#' + key + ' button');\n",
              "      quickchartButtonEl.disabled = true;  // To prevent multiple clicks.\n",
              "      quickchartButtonEl.classList.add('colab-df-spinner');\n",
              "      try {\n",
              "        const charts = await google.colab.kernel.invokeFunction(\n",
              "            'suggestCharts', [key], {});\n",
              "      } catch (error) {\n",
              "        console.error('Error during call to suggestCharts:', error);\n",
              "      }\n",
              "      quickchartButtonEl.classList.remove('colab-df-spinner');\n",
              "      quickchartButtonEl.classList.add('colab-df-quickchart-complete');\n",
              "    }\n",
              "    (() => {\n",
              "      let quickchartButtonEl =\n",
              "        document.querySelector('#df-9b425dbf-22c9-4451-93df-3daca1c8a7b3 button');\n",
              "      quickchartButtonEl.style.display =\n",
              "        google.colab.kernel.accessAllowed ? 'block' : 'none';\n",
              "    })();\n",
              "  </script>\n",
              "</div>\n",
              "    </div>\n",
              "  </div>\n"
            ]
          },
          "metadata": {},
          "execution_count": 93
        }
      ]
    },
    {
      "cell_type": "code",
      "source": [
        "#code to remove base on true or false and moving to a new df\n",
        "games_test_clean_genre = games[games['Remove'] == False]"
      ],
      "metadata": {
        "id": "Ntkh-Iqt7OBH"
      },
      "execution_count": 92,
      "outputs": []
    },
    {
      "cell_type": "code",
      "source": [
        "genre_count2 = {}\n",
        "\n",
        "#breakdown of Genres for games_test3\n",
        "\n",
        "for genre in games_test_clean_genre['Genres']:\n",
        "      genres = genre.split(\",\")\n",
        "      for genre in genres:\n",
        "        genre_count2[genre] = genre_count2.get(genre, 0) + 1\n"
      ],
      "metadata": {
        "id": "3AWbzYW2h4sh"
      },
      "execution_count": 94,
      "outputs": []
    },
    {
      "cell_type": "code",
      "source": [
        "# what is left after\n",
        "genre_count2"
      ],
      "metadata": {
        "colab": {
          "base_uri": "https://localhost:8080/"
        },
        "id": "nlPsV9dViGX0",
        "outputId": "527e6408-556a-430d-80ff-eb23123ca421"
      },
      "execution_count": 95,
      "outputs": [
        {
          "output_type": "execute_result",
          "data": {
            "text/plain": [
              "{'Casual': 23638,\n",
              " 'Indie': 42610,\n",
              " 'Sports': 2844,\n",
              " 'Action': 25553,\n",
              " 'Adventure': 23331,\n",
              " 'Free to Play': 3403,\n",
              " 'Massively Multiplayer': 1509,\n",
              " 'RPG': 10487,\n",
              " 'Strategy': 11840,\n",
              " 'Simulation': 11709,\n",
              " 'Early Access': 6958,\n",
              " 'Racing': 2302}"
            ]
          },
          "metadata": {},
          "execution_count": 95
        }
      ]
    },
    {
      "cell_type": "code",
      "source": [
        "genre_count2.keys()"
      ],
      "metadata": {
        "colab": {
          "base_uri": "https://localhost:8080/"
        },
        "id": "WEjc4Lj8D2pu",
        "outputId": "43b6de6d-af50-47d9-eec2-0096df7216e6"
      },
      "execution_count": 102,
      "outputs": [
        {
          "output_type": "execute_result",
          "data": {
            "text/plain": [
              "dict_keys(['Casual', 'Indie', 'Sports', 'Action', 'Adventure', 'Free to Play', 'Massively Multiplayer', 'RPG', 'Strategy', 'Simulation', 'Early Access', 'Racing'])"
            ]
          },
          "metadata": {},
          "execution_count": 102
        }
      ]
    },
    {
      "cell_type": "markdown",
      "source": [
        "\n",
        "These will be added as a column each with temp value of true false, later to be converted to into 1 and zero."
      ],
      "metadata": {
        "id": "HN4IAGpZCxM6"
      }
    },
    {
      "cell_type": "code",
      "source": [
        "#sample df to test new function\n",
        "games_test = games_test_clean_genre.copy()"
      ],
      "metadata": {
        "id": "TWnPooN3_oQg"
      },
      "execution_count": 100,
      "outputs": []
    },
    {
      "cell_type": "markdown",
      "source": [
        "Function for adding columns"
      ],
      "metadata": {
        "id": "k0edmtTHDakD"
      }
    },
    {
      "cell_type": "code",
      "source": [
        "def add_columns(dataframe, column_names):\n",
        "      for col_name in column_names:\n",
        "        dataframe[col_name] = 0\n",
        "        return dataframe"
      ],
      "metadata": {
        "id": "syMiG5aaDdXo"
      },
      "execution_count": 101,
      "outputs": []
    },
    {
      "cell_type": "code",
      "source": [
        "#using the diction key to get the column to be added.\n",
        "columns_to_add = list(genre_count2.keys())"
      ],
      "metadata": {
        "id": "r_Z9nUPwDnnI"
      },
      "execution_count": 107,
      "outputs": []
    },
    {
      "cell_type": "code",
      "source": [
        "columns_to_add"
      ],
      "metadata": {
        "colab": {
          "base_uri": "https://localhost:8080/"
        },
        "id": "yMkGNwMDEE7U",
        "outputId": "3f3584cb-91f6-4077-df14-2dc074cb7ec4"
      },
      "execution_count": 108,
      "outputs": [
        {
          "output_type": "execute_result",
          "data": {
            "text/plain": [
              "['Casual',\n",
              " 'Indie',\n",
              " 'Sports',\n",
              " 'Action',\n",
              " 'Adventure',\n",
              " 'Free to Play',\n",
              " 'Massively Multiplayer',\n",
              " 'RPG',\n",
              " 'Strategy',\n",
              " 'Simulation',\n",
              " 'Early Access',\n",
              " 'Racing']"
            ]
          },
          "metadata": {},
          "execution_count": 108
        }
      ]
    },
    {
      "cell_type": "code",
      "source": [],
      "metadata": {
        "id": "w3FpTBEZEA9C"
      },
      "execution_count": null,
      "outputs": []
    },
    {
      "source": [
        "# Tags review"
      ],
      "cell_type": "markdown",
      "metadata": {
        "id": "TmWRZqJ182mD"
      }
    },
    {
      "cell_type": "code",
      "execution_count": 96,
      "metadata": {
        "id": "5APUmPAu82mD"
      },
      "outputs": [],
      "source": [
        "tag_count2 = {}\n",
        "\n",
        "#breakdown of Genres for games_test_clean_genre\n",
        "\n",
        "\n",
        "for genre in games_test_clean_genre['Tags']:\n",
        "      genres = genre.split(\",\")\n",
        "      for genre in genres:\n",
        "        tag_count2[genre] = tag_count2.get(genre, 0) + 1"
      ]
    },
    {
      "cell_type": "code",
      "execution_count": 73,
      "metadata": {
        "colab": {
          "base_uri": "https://localhost:8080/"
        },
        "id": "EEfYy3iM82mE",
        "outputId": "17b90f44-6a3b-4d31-db31-545fab18444c"
      },
      "outputs": [
        {
          "output_type": "execute_result",
          "data": {
            "text/plain": [
              "{'Indie': 38472,\n",
              " 'Casual': 25875,\n",
              " 'Sports': 3062,\n",
              " 'Bowling': 36,\n",
              " 'Action': 27232,\n",
              " 'Pixel Graphics': 8465,\n",
              " '2D': 16170,\n",
              " 'Retro': 5992,\n",
              " 'Arcade': 7151,\n",
              " 'Score Attack': 1724,\n",
              " 'Minimalist': 3493,\n",
              " 'Comedy': 3872,\n",
              " 'Singleplayer': 30544,\n",
              " 'Fast-Paced': 1601,\n",
              " 'Funny': 6290,\n",
              " 'Parody': 403,\n",
              " 'Difficult': 5062,\n",
              " 'Gore': 3361,\n",
              " 'Violent': 3918,\n",
              " 'Western': 248,\n",
              " 'Controller': 3729,\n",
              " 'Blood': 403,\n",
              " '2D Platformer': 3570,\n",
              " 'Atmospheric': 10398,\n",
              " 'Surreal': 1594,\n",
              " 'Mystery': 3423,\n",
              " 'Puzzle': 10673,\n",
              " 'Survival': 4425,\n",
              " 'Adventure': 25385,\n",
              " 'Linear': 3054,\n",
              " 'Experimental': 1099,\n",
              " 'Platformer': 5959,\n",
              " 'Precision Platformer': 1251,\n",
              " 'Puzzle-Platformer': 2616,\n",
              " 'Stylized': 3825,\n",
              " 'Physics': 3444,\n",
              " 'Time Manipulation': 389,\n",
              " 'Nudity': 2558,\n",
              " 'Sexual Content': 2612,\n",
              " 'Story Rich': 8363,\n",
              " 'Turn-Based Combat': 2008,\n",
              " 'Massively Multiplayer': 1592,\n",
              " 'Multiplayer': 7441,\n",
              " 'RPG': 11296,\n",
              " 'Tactical RPG': 862,\n",
              " 'Exploration': 7077,\n",
              " 'PvP': 3069,\n",
              " 'MMORPG': 406,\n",
              " 'Turn-Based Strategy': 2237,\n",
              " 'God Game': 354,\n",
              " 'Strategy': 12889,\n",
              " '2.5D': 1272,\n",
              " 'Magic': 2309,\n",
              " 'Medieval': 1961,\n",
              " 'Mythology': 592,\n",
              " 'Class-Based': 343,\n",
              " 'Turn-Based Tactics': 1918,\n",
              " 'Online Co-Op': 1998,\n",
              " 'Co-op': 3731,\n",
              " 'Tower Defense': 1244,\n",
              " 'Rogue-lite': 2313,\n",
              " 'RTS': 1348,\n",
              " 'Replay Value': 1847,\n",
              " 'Perma Death': 1139,\n",
              " 'Isometric': 1500,\n",
              " 'Rogue-like': 2521,\n",
              " 'Dynamic Narration': 257,\n",
              " 'Real Time Tactics': 973,\n",
              " 'Abstract': 1340,\n",
              " 'Tactical': 2585,\n",
              " 'Sci-fi': 5624,\n",
              " 'Simulation': 12626,\n",
              " 'Classic': 1528,\n",
              " 'Zombies': 1851,\n",
              " 'Wargame': 884,\n",
              " 'Historical': 1688,\n",
              " 'Strategy RPG': 1005,\n",
              " 'Party-Based RPG': 757,\n",
              " 'Comic Book': 725,\n",
              " 'Team-Based': 860,\n",
              " 'Female Protagonist': 4912,\n",
              " 'Hand-drawn': 2410,\n",
              " 'World War II': 596,\n",
              " 'Card Game': 1332,\n",
              " 'Deckbuilding': 559,\n",
              " 'Lovecraftian': 477,\n",
              " 'Board Game': 1271,\n",
              " 'Free to Play': 3993,\n",
              " 'Action Roguelike': 1593,\n",
              " 'RPGMaker': 1374,\n",
              " 'Fantasy': 6974,\n",
              " 'Dungeon Crawler': 1697,\n",
              " 'Early Access': 8625,\n",
              " 'Top-Down': 4006,\n",
              " 'Top-Down Shooter': 1568,\n",
              " 'Procedural Generation': 2208,\n",
              " 'Shooter': 6209,\n",
              " 'Aliens': 1172,\n",
              " 'Third Person': 4277,\n",
              " 'Twin Stick Shooter': 798,\n",
              " 'Horror': 5722,\n",
              " 'Hunting': 298,\n",
              " 'Level Editor': 809,\n",
              " '3D': 8790,\n",
              " 'First-Person': 7017,\n",
              " 'Inventory Management': 606,\n",
              " 'Point & Click': 3444,\n",
              " 'Hidden Object': 2441,\n",
              " 'Pirates': 329,\n",
              " 'Resource Management': 1747,\n",
              " 'Short': 1521,\n",
              " 'Colorful': 8045,\n",
              " 'Clicker': 1286,\n",
              " 'Open World': 4317,\n",
              " 'Building': 2536,\n",
              " 'PvE': 2275,\n",
              " 'Crafting': 1949,\n",
              " 'Turn-Based': 1778,\n",
              " 'World War I': 131,\n",
              " 'Steampunk': 392,\n",
              " 'Alternate History': 647,\n",
              " 'Psychological Horror': 3208,\n",
              " 'Flight': 1107,\n",
              " 'VR': 4904,\n",
              " 'Racing': 2470,\n",
              " 'Realistic': 3232,\n",
              " 'Education': 1517,\n",
              " 'Jet': 120,\n",
              " '3D Vision': 433,\n",
              " 'Relaxing': 5265,\n",
              " 'America': 383,\n",
              " 'TrackIR': 34,\n",
              " 'Combat Racing': 394,\n",
              " 'Driving': 1142,\n",
              " 'Automobile Sim': 792,\n",
              " 'Anime': 5778,\n",
              " 'Moddable': 686,\n",
              " 'Cinematic': 1015,\n",
              " \"1990's\": 1693,\n",
              " 'Old School': 2558,\n",
              " 'Superhero': 249,\n",
              " 'Time Travel': 312,\n",
              " 'Family Friendly': 5594,\n",
              " 'Cute': 7365,\n",
              " 'Cartoony': 3300,\n",
              " 'Space': 2986,\n",
              " 'Cartoon': 2056,\n",
              " 'Mod': 63,\n",
              " 'Time Management': 1068,\n",
              " 'Emotional': 1441,\n",
              " 'Romance': 1475,\n",
              " 'Drama': 1744,\n",
              " 'Satire': 316,\n",
              " 'Walking Simulator': 1773,\n",
              " 'Post-apocalyptic': 1573,\n",
              " 'Local Multiplayer': 2450,\n",
              " 'Dark Fantasy': 1596,\n",
              " 'Dark Comedy': 520,\n",
              " 'Cats': 633,\n",
              " 'Great Soundtrack': 4392,\n",
              " 'Beautiful': 656,\n",
              " 'Fighting': 1020,\n",
              " '2D Fighter': 765,\n",
              " 'Mature': 1151,\n",
              " \"Beat 'em up\": 979,\n",
              " 'Local Co-Op': 1881,\n",
              " 'Mechs': 420,\n",
              " 'FPS': 3797,\n",
              " 'Futuristic': 2076,\n",
              " 'Robots': 1201,\n",
              " 'Cyberpunk': 1202,\n",
              " 'Dystopian': 751,\n",
              " 'Destruction': 764,\n",
              " 'Mars': 163,\n",
              " 'VR Only': 1257,\n",
              " 'Action-Adventure': 5015,\n",
              " 'Choices Matter': 3255,\n",
              " 'Choose Your Own Adventure': 1784,\n",
              " 'Dark Humor': 1093,\n",
              " 'Management': 2559,\n",
              " 'Gambling': 144,\n",
              " 'City Builder': 973,\n",
              " 'Kickstarter': 186,\n",
              " 'Character Customization': 2436,\n",
              " 'Solitaire': 430,\n",
              " 'Hentai': 697,\n",
              " 'Visual Novel': 3779,\n",
              " 'Dating Sim': 1185,\n",
              " 'Stealth': 1485,\n",
              " 'Match 3': 736,\n",
              " 'Tabletop': 1146,\n",
              " 'Loot': 753,\n",
              " 'Souls-like': 695,\n",
              " 'Detective': 1197,\n",
              " 'Investigation': 1189,\n",
              " 'Dark': 3297,\n",
              " 'Interactive Fiction': 1782,\n",
              " 'Dinosaurs': 263,\n",
              " 'Life Sim': 978,\n",
              " 'Conversation': 893,\n",
              " 'Demons': 942,\n",
              " 'Action RPG': 2379,\n",
              " 'Combat': 3603,\n",
              " 'Co-op Campaign': 354,\n",
              " 'Social Deduction': 79,\n",
              " 'Hacking': 299,\n",
              " 'Character Action Game': 558,\n",
              " '3D Platformer': 2122,\n",
              " 'Archery': 182,\n",
              " 'Card Battler': 542,\n",
              " 'Logic': 2377,\n",
              " 'Grid-Based Movement': 715,\n",
              " 'Escape Room': 248,\n",
              " 'Hack and Slash': 1844,\n",
              " 'Swordplay': 482,\n",
              " 'Spectacle fighter': 386,\n",
              " 'Noir': 499,\n",
              " 'Third-Person Shooter': 1283,\n",
              " 'Bullet Time': 408,\n",
              " 'Crime': 612,\n",
              " 'Survival Horror': 2108,\n",
              " 'Naval Combat': 175,\n",
              " 'Asynchronous Multiplayer': 207,\n",
              " 'Narrative': 228,\n",
              " 'Supernatural': 765,\n",
              " 'Vampire': 231,\n",
              " 'Otome': 337,\n",
              " 'Bullet Hell': 1960,\n",
              " \"Shoot 'Em Up\": 2336,\n",
              " 'Nonlinear': 837,\n",
              " 'Psychedelic': 912,\n",
              " 'Arena Shooter': 1087,\n",
              " 'Runner': 935,\n",
              " 'Sailing': 165,\n",
              " 'Competitive': 921,\n",
              " 'Gothic': 324,\n",
              " 'Rhythm': 679,\n",
              " 'Psychological': 971,\n",
              " 'Conspiracy': 328,\n",
              " 'Hero Shooter': 405,\n",
              " 'Side Scroller': 2982,\n",
              " 'Mouse only': 520,\n",
              " 'Multiple Endings': 2860,\n",
              " '4 Player Local': 1120,\n",
              " 'Split Screen': 507,\n",
              " 'Colony Sim': 459,\n",
              " 'Base-Building': 1461,\n",
              " 'Sandbox': 3067,\n",
              " 'Pinball': 109,\n",
              " 'Fishing': 254,\n",
              " 'Nature': 1434,\n",
              " '6DOF': 462,\n",
              " 'Modern': 702,\n",
              " 'GameMaker': 163,\n",
              " 'Music': 902,\n",
              " 'Hex Grid': 377,\n",
              " 'Voxel': 441,\n",
              " 'Parkour': 722,\n",
              " 'Musou': 27,\n",
              " 'Naval': 261,\n",
              " 'Rock Music': 28,\n",
              " 'Soundtrack': 570,\n",
              " 'Vikings': 72,\n",
              " '4X': 308,\n",
              " 'Ninja': 348,\n",
              " 'Martial Arts': 346,\n",
              " 'Football': 194,\n",
              " 'Gaming': 55,\n",
              " 'JRPG': 1817,\n",
              " 'Horses': 140,\n",
              " 'Immersive Sim': 1422,\n",
              " 'Soccer': 189,\n",
              " 'Military': 1321,\n",
              " 'War': 1703,\n",
              " 'FMV': 322,\n",
              " 'Looter Shooter': 278,\n",
              " 'Idler': 712,\n",
              " 'LGBTQ+': 924,\n",
              " 'Cooking': 263,\n",
              " 'Quick-Time Events': 305,\n",
              " 'Political': 367,\n",
              " 'Dragons': 450,\n",
              " 'Action RTS': 185,\n",
              " 'Narration': 1204,\n",
              " 'Automation': 408,\n",
              " 'Programming': 296,\n",
              " 'Thriller': 914,\n",
              " 'Economy': 1095,\n",
              " 'Philosophical': 525,\n",
              " '3D Fighter': 487,\n",
              " 'Battle Royale': 410,\n",
              " 'Space Sim': 618,\n",
              " 'Lore-Rich': 744,\n",
              " 'e-sports': 472,\n",
              " 'Mining': 310,\n",
              " 'Motocross': 54,\n",
              " 'Motorbike': 119,\n",
              " 'Addictive': 418,\n",
              " 'Touch-Friendly': 245,\n",
              " 'Dog': 304,\n",
              " 'Diplomacy': 172,\n",
              " 'Political Sim': 248,\n",
              " 'Politics': 266,\n",
              " 'Grand Strategy': 582,\n",
              " 'Real-Time': 359,\n",
              " 'Offroad': 181,\n",
              " 'Text-Based': 1405,\n",
              " 'Trains': 213,\n",
              " 'Design & Illustration': 386,\n",
              " 'Animation & Modeling': 183,\n",
              " 'Utilities': 327,\n",
              " 'Science': 520,\n",
              " 'Underground': 305,\n",
              " 'Transhumanism': 105,\n",
              " 'Intentionally Awkward Controls': 54,\n",
              " 'Snow': 185,\n",
              " 'Open World Survival Craft': 422,\n",
              " 'Vehicular Combat': 420,\n",
              " 'Unforgiving': 122,\n",
              " 'On-Rails Shooter': 212,\n",
              " 'MOBA': 227,\n",
              " 'Game Development': 218,\n",
              " 'CRPG': 615,\n",
              " 'Metroidvania': 905,\n",
              " 'Memes': 1335,\n",
              " 'Bikes': 101,\n",
              " 'Tutorial': 789,\n",
              " 'Skateboarding': 49,\n",
              " 'Trivia': 207,\n",
              " 'Word Game': 455,\n",
              " 'Party Game': 242,\n",
              " 'Gun Customization': 365,\n",
              " 'Immersive': 204,\n",
              " 'Experience': 173,\n",
              " 'Illuminati': 248,\n",
              " 'Cold War': 218,\n",
              " 'Boxing': 137,\n",
              " 'Software': 245,\n",
              " 'Mystery Dungeon': 475,\n",
              " 'Roguelike Deckbuilder': 166,\n",
              " 'Auto Battler': 276,\n",
              " '1980s': 1267,\n",
              " 'Collectathon': 732,\n",
              " 'Movie': 74,\n",
              " 'Nostalgia': 160,\n",
              " 'Heist': 187,\n",
              " 'Episodic': 144,\n",
              " 'Baseball': 67,\n",
              " 'Web Publishing': 46,\n",
              " 'Remake': 327,\n",
              " 'Chess': 158,\n",
              " 'Sequel': 155,\n",
              " 'Cult Classic': 309,\n",
              " 'Crowdfunded': 100,\n",
              " 'Transportation': 223,\n",
              " 'Farming Sim': 418,\n",
              " 'Agriculture': 385,\n",
              " 'Underwater': 300,\n",
              " 'Creature Collector': 392,\n",
              " 'Medical Sim': 92,\n",
              " 'Artificial Intelligence': 803,\n",
              " 'Capitalism': 365,\n",
              " 'Werewolves': 107,\n",
              " 'Tanks': 341,\n",
              " 'Sokoban': 382,\n",
              " 'Party': 206,\n",
              " 'Rome': 109,\n",
              " 'Dungeons & Dragons': 64,\n",
              " 'Minigames': 265,\n",
              " 'Villain Protagonist': 177,\n",
              " 'Trading Card Game': 239,\n",
              " 'Faith': 252,\n",
              " 'Traditional Roguelike': 172,\n",
              " 'Roguevania': 91,\n",
              " 'NSFW': 474,\n",
              " 'Trading': 311,\n",
              " 'LEGO': 90,\n",
              " 'Typing': 208,\n",
              " 'Foreign': 160,\n",
              " 'Ambient': 63,\n",
              " 'Outbreak Sim': 103,\n",
              " 'Boss Rush': 25,\n",
              " 'Mini Golf': 75,\n",
              " 'Masterpiece': 29,\n",
              " 'Based On A Novel': 77,\n",
              " 'Video Production': 87,\n",
              " 'Audio Production': 91,\n",
              " 'Time Attack': 227,\n",
              " 'Tennis': 59,\n",
              " 'Pool': 54,\n",
              " 'Warhammer 40K': 63,\n",
              " 'Games Workshop': 91,\n",
              " 'Electronic Music': 63,\n",
              " 'Skiing': 30,\n",
              " 'Feature Film': 12,\n",
              " 'Spaceships': 92,\n",
              " 'Assassin': 228,\n",
              " 'Well-Written': 19,\n",
              " 'Music-Based Procedural Generation': 175,\n",
              " 'Farming': 100,\n",
              " 'Epic': 113,\n",
              " '360 Video': 54,\n",
              " 'Real-Time with Pause': 280,\n",
              " 'Spelling': 109,\n",
              " 'Basketball': 90,\n",
              " 'Software Training': 70,\n",
              " 'Sniper': 141,\n",
              " 'Asymmetric VR': 93,\n",
              " 'Hockey': 46,\n",
              " 'Silent Protagonist': 112,\n",
              " 'Submarine': 86,\n",
              " 'Golf': 124,\n",
              " 'Instrumental Music': 33,\n",
              " 'Lara Croft': 19,\n",
              " 'Cycling': 45,\n",
              " 'Wrestling': 59,\n",
              " '8-bit Music': 22,\n",
              " 'Voice Control': 26,\n",
              " 'Lemmings': 60,\n",
              " 'Jump Scare': 29,\n",
              " 'BMX': 25,\n",
              " 'Documentary': 28,\n",
              " 'Wholesome': 94,\n",
              " 'ATV': 22,\n",
              " 'Benchmark': 16,\n",
              " 'Cozy': 109,\n",
              " 'Skating': 39,\n",
              " 'Electronic': 27,\n",
              " 'Hardware': 17,\n",
              " 'Snowboarding': 29,\n",
              " 'Photo Editing': 47,\n",
              " 'Steam Machine': 12,\n",
              " 'Cricket': 20,\n",
              " 'Volleyball': 11,\n",
              " 'Job Simulator': 16,\n",
              " 'Reboot': 17,\n",
              " 'Rugby': 7,\n",
              " 'Batman': 1,\n",
              " 'Shop Keeper': 6,\n",
              " 'Coding': 2,\n",
              " 'Football (Soccer)': 20,\n",
              " 'Hobby Sim': 3,\n",
              " 'Tile-Matching': 1,\n",
              " 'Mahjong': 3,\n",
              " 'Birds': 1,\n",
              " 'Football (American)': 7,\n",
              " 'Fox': 1}"
            ]
          },
          "metadata": {},
          "execution_count": 73
        }
      ],
      "source": [
        "tag_count2"
      ]
    },
    {
      "source": [
        "# Categories"
      ],
      "cell_type": "markdown",
      "metadata": {
        "id": "zTJYitpb82mF"
      }
    },
    {
      "cell_type": "code",
      "execution_count": 97,
      "metadata": {
        "id": "xPBoHFXb82mF"
      },
      "outputs": [],
      "source": [
        "cate_count2 = {}\n",
        "\n",
        "#breakdown of Genres for games_test3\n",
        "\n",
        "\n",
        "for genre in games_test_clean_genre['Categories']:\n",
        "      genres = genre.split(\",\")\n",
        "      for genre in genres:\n",
        "        cate_count2[genre] = cate_count2.get(genre, 0) + 1"
      ]
    },
    {
      "cell_type": "code",
      "execution_count": 98,
      "metadata": {
        "colab": {
          "base_uri": "https://localhost:8080/"
        },
        "id": "KogNbEEB82mF",
        "outputId": "09056815-37ae-45ec-af0a-d94af2178a70"
      },
      "outputs": [
        {
          "output_type": "execute_result",
          "data": {
            "text/plain": [
              "{'Single-player': 56132,\n",
              " 'Multi-player': 12129,\n",
              " 'Steam Achievements': 29531,\n",
              " 'Partial Controller Support': 8302,\n",
              " 'Full controller support': 12997,\n",
              " 'Steam Leaderboards': 5760,\n",
              " 'Remote Play on Phone': 750,\n",
              " 'Remote Play on Tablet': 905,\n",
              " 'Remote Play on TV': 2039,\n",
              " 'MMO': 823,\n",
              " 'PvP': 7432,\n",
              " 'Online PvP': 5252,\n",
              " 'Co-op': 6056,\n",
              " 'Online Co-op': 3260,\n",
              " 'In-App Purchases': 1371,\n",
              " 'Steam Cloud': 15577,\n",
              " 'Steam Trading Cards': 9403,\n",
              " 'Shared/Split Screen': 4618,\n",
              " 'Cross-Platform Multiplayer': 1814,\n",
              " 'Remote Play Together': 5134,\n",
              " 'Stats': 3054,\n",
              " 'Shared/Split Screen PvP': 3304,\n",
              " 'Captions available': 1066,\n",
              " 'Steam Workshop': 1607,\n",
              " 'Includes level editor': 1662,\n",
              " 'LAN PvP': 509,\n",
              " 'LAN Co-op': 445,\n",
              " 'Shared/Split Screen Co-op': 2641,\n",
              " 'Steam Turn Notifications': 84,\n",
              " 'VR Support': 230,\n",
              " 'SteamVR Collectibles': 39,\n",
              " 'Valve Anti-Cheat enabled': 124,\n",
              " 'Includes Source SDK': 46,\n",
              " 'Commentary available': 207,\n",
              " 'Mods': 2,\n",
              " 'Mods (require HL2)': 1,\n",
              " 'Tracked Controller Support': 104,\n",
              " 'VR Only': 208,\n",
              " 'VR Supported': 38}"
            ]
          },
          "metadata": {},
          "execution_count": 98
        }
      ],
      "source": [
        "cate_count2"
      ]
    },
    {
      "source": [
        "# breaking down data to top hitters"
      ],
      "cell_type": "markdown",
      "metadata": {
        "id": "YxykaioJ82mG"
      }
    },
    {
      "cell_type": "markdown",
      "source": [
        "# Code to plot dictionaries Values"
      ],
      "metadata": {
        "id": "xaOC6TWDASC6"
      }
    },
    {
      "cell_type": "code",
      "execution_count": 79,
      "metadata": {
        "id": "FEhPUC3O82mH"
      },
      "outputs": [],
      "source": [
        "#plotting Categories with data sorting\n",
        "def plot_dict_bar2(dictionary):\n",
        "\n",
        "    #sort diction asceding\n",
        "    sorted_dict = sorted(dictionary.items(), key=lambda x:x[1])\n",
        "    converted_dict = dict(sorted_dict)\n",
        "\n",
        "    count_dict = Counter(dict(sorted_dict))\n",
        "    updated_dict = dict(count_dict.most_common(20))\n",
        "    #\n",
        "    keys = updated_dict.keys()\n",
        "    values = updated_dict.values()\n",
        "\n",
        "    plt.bar(keys, values)\n",
        "    plt.xlabel('Keys', labelpad=10)\n",
        "    plt.ylabel('Values')\n",
        "    #adjust some layouts\n",
        "    plt.xticks(rotation = 45, ha= 'right') #angles the columns labels for better readability\n",
        "    plt.figure(figsize=(20,6))\n",
        "\n",
        "    plt.show()"
      ]
    },
    {
      "cell_type": "code",
      "execution_count": 82,
      "metadata": {
        "colab": {
          "base_uri": "https://localhost:8080/",
          "height": 580
        },
        "id": "_9NPuPj882mE",
        "outputId": "5dfbe110-877d-4bf5-f331-e78399cc0d06"
      },
      "outputs": [
        {
          "output_type": "display_data",
          "data": {
            "text/plain": [
              "<Figure size 640x480 with 1 Axes>"
            ],
            "image/png": "[encoded data removed]"
          },
          "metadata": {}
        },
        {
          "output_type": "display_data",
          "data": {
            "text/plain": [
              "<Figure size 2000x600 with 0 Axes>"
            ]
          },
          "metadata": {}
        }
      ],
      "source": [
        "plot_dict_bar2(genre_count2)"
      ]
    },
    {
      "cell_type": "code",
      "source": [
        "plot_dict_bar2(cate_count2)\n"
      ],
      "metadata": {
        "colab": {
          "base_uri": "https://localhost:8080/",
          "height": 602
        },
        "id": "Cw8vUY4K-HYM",
        "outputId": "9eb0a58a-0e43-47b1-8b6c-325ccef9b448"
      },
      "execution_count": 83,
      "outputs": [
        {
          "output_type": "display_data",
          "data": {
            "text/plain": [
              "<Figure size 640x480 with 1 Axes>"
            ],
            "image/png": "[encoded data removed]"
          },
          "metadata": {}
        },
        {
          "output_type": "display_data",
          "data": {
            "text/plain": [
              "<Figure size 2000x600 with 0 Axes>"
            ]
          },
          "metadata": {}
        }
      ]
    },
    {
      "cell_type": "code",
      "source": [
        "plot_dict_bar2(tag_count2)"
      ],
      "metadata": {
        "colab": {
          "base_uri": "https://localhost:8080/",
          "height": 543
        },
        "id": "sATBgTHF-IwU",
        "outputId": "b8e7e5f0-ed00-489c-cb40-674481195101"
      },
      "execution_count": 84,
      "outputs": [
        {
          "output_type": "display_data",
          "data": {
            "text/plain": [
              "<Figure size 640x480 with 1 Axes>"
            ],
            "image/png": "[encoded data removed]"
          },
          "metadata": {}
        },
        {
          "output_type": "display_data",
          "data": {
            "text/plain": [
              "<Figure size 2000x600 with 0 Axes>"
            ]
          },
          "metadata": {}
        }
      ]
    },
    {
      "source": [
        "For categories, I'm going to just look at the following games that have:\n",
        "\n",
        "* Single-Player\n",
        "* Muli-player\n",
        "* controller Support (Full or Partial)\n",
        "\n",
        "\n"
      ],
      "cell_type": "markdown",
      "metadata": {
        "id": "pRW4XSbl82mI"
      }
    },
    {
      "cell_type": "markdown",
      "source": [
        "# end experiment"
      ],
      "metadata": {
        "id": "Ds-l6N1OgF_Z"
      }
    }
  ]
}